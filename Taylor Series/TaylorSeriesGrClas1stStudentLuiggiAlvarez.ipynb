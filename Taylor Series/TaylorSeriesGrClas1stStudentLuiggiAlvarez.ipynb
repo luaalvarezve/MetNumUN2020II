{
  "nbformat": 4,
  "nbformat_minor": 0,
  "metadata": {
    "colab": {
      "name": "TaylorSeriesGrClas1stStudentLuiggiAlvarez.ipynb",
      "provenance": []
    },
    "kernelspec": {
      "name": "python3",
      "display_name": "Python 3"
    }
  },
  "cells": [
    {
      "cell_type": "markdown",
      "metadata": {
        "id": "Si2fE49_-RiD"
      },
      "source": [
        "## Taylor Series\n",
        "\n",
        "- Luiggi Alexander Alvarez Velasquez"
      ]
    },
    {
      "cell_type": "markdown",
      "metadata": {
        "id": "44HMzVT4hxRH"
      },
      "source": [
        "\n",
        " # Taylor Series for $$e^x$$"
      ]
    },
    {
      "cell_type": "code",
      "metadata": {
        "id": "-bYGAPCi9NJ1",
        "outputId": "082f346b-7307-4337-aabf-9c024ff0afbc",
        "colab": {
          "base_uri": "https://localhost:8080/"
        }
      },
      "source": [
        "\n",
        "import math\n",
        "\n",
        "x = 2\n",
        "e_to_2 = x**0/math.factorial(0) + x**1/math.factorial(1) + x**2/math.factorial(2) + x**3/math.factorial(3) + x**4/math.factorial(4)\n",
        "print(e_to_2)"
      ],
      "execution_count": 1,
      "outputs": [
        {
          "output_type": "stream",
          "text": [
            "7.0\n"
          ],
          "name": "stdout"
        }
      ]
    },
    {
      "cell_type": "code",
      "metadata": {
        "id": "dJLeSYSqidap",
        "outputId": "65c3295e-d731-4095-e881-9a7a2cd8ef3d",
        "colab": {
          "base_uri": "https://localhost:8080/"
        }
      },
      "source": [
        "\n",
        "print(math.exp(2))"
      ],
      "execution_count": 2,
      "outputs": [
        {
          "output_type": "stream",
          "text": [
            "7.38905609893065\n"
          ],
          "name": "stdout"
        }
      ]
    },
    {
      "cell_type": "code",
      "metadata": {
        "id": "_D7t7MX0ie9A",
        "outputId": "7f5928ce-2032-4383-8c92-2d4c42ef7da2",
        "colab": {
          "base_uri": "https://localhost:8080/"
        }
      },
      "source": [
        "\n",
        "x = 2\n",
        "e_to_2 = 0\n",
        "for i in range(5):\n",
        "    e_to_2 += x**i/math.factorial(i)\n",
        "    \n",
        "print(e_to_2)"
      ],
      "execution_count": 3,
      "outputs": [
        {
          "output_type": "stream",
          "text": [
            "7.0\n"
          ],
          "name": "stdout"
        }
      ]
    },
    {
      "cell_type": "code",
      "metadata": {
        "id": "PW_PqYYNihxL",
        "outputId": "f9e9152f-a610-494b-8727-cc4a945ba2f8",
        "colab": {
          "base_uri": "https://localhost:8080/"
        }
      },
      "source": [
        "\n",
        "\n",
        "x = 2\n",
        "e_to_2 = 0\n",
        "for i in range(10):\n",
        "    e_to_2 += x**i/math.factorial(i)\n",
        "    \n",
        "print(e_to_2)"
      ],
      "execution_count": 5,
      "outputs": [
        {
          "output_type": "stream",
          "text": [
            "7.3887125220458545\n"
          ],
          "name": "stdout"
        }
      ]
    },
    {
      "cell_type": "code",
      "metadata": {
        "id": "Li_KhSOmikhj"
      },
      "source": [
        "import math\n",
        "\n",
        "def func_e_to_2(n):\n",
        "    x = 2\n",
        "    e_to_2 = 0\n",
        "    for i in range(n):\n",
        "        e_to_2 += x**i/math.factorial(i)\n",
        "    \n",
        "    return e_to_2"
      ],
      "execution_count": 6,
      "outputs": []
    },
    {
      "cell_type": "code",
      "metadata": {
        "id": "n-1tGGaQiysj",
        "outputId": "30a13b16-cbf7-4b4c-9265-b3d25977448b",
        "colab": {
          "base_uri": "https://localhost:8080/"
        }
      },
      "source": [
        "out = func_e_to_2(10)\n",
        "print(out)"
      ],
      "execution_count": 7,
      "outputs": [
        {
          "output_type": "stream",
          "text": [
            "7.3887125220458545\n"
          ],
          "name": "stdout"
        }
      ]
    },
    {
      "cell_type": "code",
      "metadata": {
        "id": "iVUiRQX5i6x3"
      },
      "source": [
        "import math\n",
        "\n",
        "def func_e(x, n):\n",
        "    e_approx = 0\n",
        "    for i in range(n):\n",
        "        e_approx += x**i/math.factorial(i)\n",
        "    \n",
        "    return e_approx"
      ],
      "execution_count": 8,
      "outputs": []
    },
    {
      "cell_type": "code",
      "metadata": {
        "id": "ijcIJwYEi7kV",
        "outputId": "f08d7d85-9d61-4b47-ff6e-b5278b612422",
        "colab": {
          "base_uri": "https://localhost:8080/"
        }
      },
      "source": [
        "out= func_e(2,100)\n",
        "print(out)"
      ],
      "execution_count": 9,
      "outputs": [
        {
          "output_type": "stream",
          "text": [
            "7.389056098930649\n"
          ],
          "name": "stdout"
        }
      ]
    },
    {
      "cell_type": "code",
      "metadata": {
        "id": "HbdNAIbbjEld",
        "outputId": "f00a35bf-91b7-48af-cd29-0ce3e35af666",
        "colab": {
          "base_uri": "https://localhost:8080/"
        }
      },
      "source": [
        "out = func_e(5,10)\n",
        "print(out)"
      ],
      "execution_count": 13,
      "outputs": [
        {
          "output_type": "stream",
          "text": [
            "143.68945656966488\n"
          ],
          "name": "stdout"
        }
      ]
    },
    {
      "cell_type": "code",
      "metadata": {
        "id": "SMlCPXudjFSC",
        "outputId": "5a7deb0a-a894-41d0-a7c5-9977a75e441d",
        "colab": {
          "base_uri": "https://localhost:8080/"
        }
      },
      "source": [
        "print(math.exp(5))"
      ],
      "execution_count": 11,
      "outputs": [
        {
          "output_type": "stream",
          "text": [
            "148.4131591025766\n"
          ],
          "name": "stdout"
        }
      ]
    },
    {
      "cell_type": "code",
      "metadata": {
        "id": "N1V3YyYAjWhf",
        "outputId": "308533f9-e2f6-4bbe-907b-d9b5b7926883",
        "colab": {
          "base_uri": "https://localhost:8080/"
        }
      },
      "source": [
        "import math\n",
        "\n",
        "x = 5\n",
        "for i in range(1,11):\n",
        "    e_approx = func_e(x,i)\n",
        "    e_exp = math.exp(x)\n",
        "    e_error = abs(e_approx - e_exp)\n",
        "    print(f'{i} terms: Taylor Series approx= {e_approx}, exp calc= {e_exp}, error = {e_error}')\n"
      ],
      "execution_count": 14,
      "outputs": [
        {
          "output_type": "stream",
          "text": [
            "1 terms: Taylor Series approx= 1.0, exp calc= 148.4131591025766, error = 147.4131591025766\n",
            "2 terms: Taylor Series approx= 6.0, exp calc= 148.4131591025766, error = 142.4131591025766\n",
            "3 terms: Taylor Series approx= 18.5, exp calc= 148.4131591025766, error = 129.9131591025766\n",
            "4 terms: Taylor Series approx= 39.33333333333333, exp calc= 148.4131591025766, error = 109.07982576924327\n",
            "5 terms: Taylor Series approx= 65.375, exp calc= 148.4131591025766, error = 83.0381591025766\n",
            "6 terms: Taylor Series approx= 91.41666666666667, exp calc= 148.4131591025766, error = 56.99649243590993\n",
            "7 terms: Taylor Series approx= 113.11805555555556, exp calc= 148.4131591025766, error = 35.29510354702104\n",
            "8 terms: Taylor Series approx= 128.61904761904762, exp calc= 148.4131591025766, error = 19.79411148352898\n",
            "9 terms: Taylor Series approx= 138.30716765873015, exp calc= 148.4131591025766, error = 10.105991443846449\n",
            "10 terms: Taylor Series approx= 143.68945656966488, exp calc= 148.4131591025766, error = 4.723702532911716\n"
          ],
          "name": "stdout"
        }
      ]
    },
    {
      "cell_type": "code",
      "metadata": {
        "id": "R9TkSdtijmnD",
        "outputId": "0f4ccbd1-b529-4586-d320-cc065bf5d3c2",
        "colab": {
          "base_uri": "https://localhost:8080/"
        }
      },
      "source": [
        "import math\n",
        "\n",
        "x = 5\n",
        "for i in range(1,20):\n",
        "    e_approx = func_e(x,i)\n",
        "    e_exp = math.exp(x)\n",
        "    e_error = abs(e_approx - e_exp)\n",
        "    if e_error < 1:\n",
        "        break\n",
        "        \n",
        "print(f'{i} terms: Taylor Series approx= {e_approx}, exp calc= {e_exp}, error = {e_error}')"
      ],
      "execution_count": 15,
      "outputs": [
        {
          "output_type": "stream",
          "text": [
            "12 terms: Taylor Series approx= 147.60384850489015, exp calc= 148.4131591025766, error = 0.8093105976864479\n"
          ],
          "name": "stdout"
        }
      ]
    },
    {
      "cell_type": "code",
      "metadata": {
        "id": "59bsqG1vj1CY",
        "outputId": "3a88752b-6c7c-4047-b9fc-3e3baa3b36e7",
        "colab": {
          "base_uri": "https://localhost:8080/",
          "height": 265
        }
      },
      "source": [
        "import math\n",
        "import numpy as np\n",
        "import matplotlib.pyplot as plt\n",
        "# if using a Jupyter notebook, include:\n",
        "%matplotlib inline\n",
        "\n",
        "axes = np.arange(-50,50,0.1)\n",
        "p_cos = [math.exp(angle) for angle in axes]\n",
        "t_cos = [func_e(angle,10) for angle in axes]\n",
        "\n",
        "fig, ax = plt.subplots()\n",
        "ax.plot(axes,p_cos)\n",
        "ax.plot(axes,t_cos)\n",
        "ax.set_ylim([-50,50])\n",
        "ax.legend(['math.exp() function','Taylor Series - 10 terms'])\n",
        "\n",
        "plt.show()"
      ],
      "execution_count": 55,
      "outputs": [
        {
          "output_type": "display_data",
          "data": {
            "image/png": "[encoded data removed]",
            "text/plain": [
              "<Figure size 432x288 with 1 Axes>"
            ]
          },
          "metadata": {
            "tags": [],
            "needs_background": "light"
          }
        }
      ]
    },
    {
      "cell_type": "code",
      "metadata": {
        "id": "zVqap_iWlXyZ",
        "outputId": "c748b25f-36c3-443f-e150-cb4d0eeeec64",
        "colab": {
          "base_uri": "https://localhost:8080/",
          "height": 269
        }
      },
      "source": [
        "import math\n",
        "import numpy as np\n",
        "import matplotlib.pyplot as plt\n",
        "# if using a Jupyter notebook, include:\n",
        "%matplotlib inline\n",
        "\n",
        "axes = np.arange(-50,50,0.1)\n",
        "p_exp = [math.exp(axe) for axe in axes]\n",
        "\n",
        "fig, ax = plt.subplots()\n",
        "ax.plot(axes,p_exp)\n",
        "\n",
        "# add lines for between 1 and 6 terms in the Taylor Series\n",
        "for i in range(1,10):\n",
        "    t_exp = [func_e(angle,i) for angle in axes]\n",
        "    ax.plot(axes,t_exp)\n",
        "\n",
        "ax.set_ylim([-40,40])\n",
        "\n",
        "# set up legend\n",
        "legend_lst = ['cos() function']\n",
        "for i in range(1,10):\n",
        "    legend_lst.append(f'Taylor Series - {i} terms')\n",
        "ax.legend(legend_lst, loc=3)\n",
        "\n",
        "plt.show()"
      ],
      "execution_count": 42,
      "outputs": [
        {
          "output_type": "display_data",
          "data": {
            "image/png": "[encoded data removed]",
            "text/plain": [
              "<Figure size 432x288 with 1 Axes>"
            ]
          },
          "metadata": {
            "tags": [],
            "needs_background": "light"
          }
        }
      ]
    },
    {
      "cell_type": "markdown",
      "metadata": {
        "id": "2VLzKPoh4bwI"
      },
      "source": [
        "#Taylor Series for $$ Sin(x) $$"
      ]
    },
    {
      "cell_type": "code",
      "metadata": {
        "id": "_UfU6_YV4nHC",
        "outputId": "582d33fe-f0f1-47cb-c896-fcace57e2add",
        "colab": {
          "base_uri": "https://localhost:8080/"
        }
      },
      "source": [
        "\n",
        "x = math.radians(90)\n",
        "sin_pi_2 = x- x**3/math.factorial(3) + x**5/math.factorial(5) + x**7/math.factorial(7) + x**9/math.factorial(9) + x**11/math.factorial(11)\n",
        "print(sin_pi_2)"
      ],
      "execution_count": 88,
      "outputs": [
        {
          "output_type": "stream",
          "text": [
            "1.0093706496981587\n"
          ],
          "name": "stdout"
        }
      ]
    },
    {
      "cell_type": "code",
      "metadata": {
        "id": "sGDNCT9BBcWE",
        "outputId": "48c20cc4-87f2-4ee8-ce4d-514a4320178a",
        "colab": {
          "base_uri": "https://localhost:8080/"
        }
      },
      "source": [
        "print(math.sin(math.radians(90)))"
      ],
      "execution_count": 65,
      "outputs": [
        {
          "output_type": "stream",
          "text": [
            "1.0\n"
          ],
          "name": "stdout"
        }
      ]
    },
    {
      "cell_type": "code",
      "metadata": {
        "id": "6pxGIl-wCMU_",
        "outputId": "543f594b-1413-408d-a469-441c1e7228af",
        "colab": {
          "base_uri": "https://localhost:8080/"
        }
      },
      "source": [
        "x = math.radians(90)\n",
        "sin_approx = 0\n",
        "for i in range(5):\n",
        "        coef = (-1)**i\n",
        "        num = x**((2*i)+1)\n",
        "        denom = math.factorial((2*i)+1)\n",
        "        sin_approx += ( coef ) * ( (num)/(denom) )\n",
        "\n",
        "print(sin_approx)"
      ],
      "execution_count": 75,
      "outputs": [
        {
          "output_type": "stream",
          "text": [
            "1.0000035425842861\n"
          ],
          "name": "stdout"
        }
      ]
    },
    {
      "cell_type": "code",
      "metadata": {
        "id": "tlCmOX7jC4Kj",
        "outputId": "4418e04a-b536-453c-b56b-5fb1224b6bf1",
        "colab": {
          "base_uri": "https://localhost:8080/"
        }
      },
      "source": [
        "x = math.radians(90)\n",
        "sin_approx = 0\n",
        "for i in range(10):\n",
        "        coef = (-1)**i\n",
        "        num = x**((2*i)+1)\n",
        "        denom = math.factorial((2*i)+1)\n",
        "        sin_approx += ( coef ) * ( (num)/(denom) )\n",
        "\n",
        "print(sin_approx)"
      ],
      "execution_count": 76,
      "outputs": [
        {
          "output_type": "stream",
          "text": [
            "1.0\n"
          ],
          "name": "stdout"
        }
      ]
    },
    {
      "cell_type": "code",
      "metadata": {
        "id": "QX3WZuB3DtN2"
      },
      "source": [
        "\n",
        "def sin_approx_pi_2(n):\n",
        "  x = math.radians(90)\n",
        "  sin_approx = 0\n",
        "  for i in range(n):\n",
        "        coef = (-1)**i\n",
        "        num = x**((2*i)+1)\n",
        "        denom = math.factorial((2*i)+1)\n",
        "        sin_approx += ( coef ) * ( (num)/(denom) )\n",
        "\n",
        "  return(sin_approx)"
      ],
      "execution_count": 80,
      "outputs": []
    },
    {
      "cell_type": "code",
      "metadata": {
        "id": "Xjch1dVQEE5O",
        "outputId": "8fa5952b-4768-4b18-c5ea-977a7e2f5ee7",
        "colab": {
          "base_uri": "https://localhost:8080/"
        }
      },
      "source": [
        "out = sin_approx_pi_2(10)\n",
        "print(out)"
      ],
      "execution_count": 81,
      "outputs": [
        {
          "output_type": "stream",
          "text": [
            "1.0\n"
          ],
          "name": "stdout"
        }
      ]
    },
    {
      "cell_type": "code",
      "metadata": {
        "id": "oPwnF0d-ECKE"
      },
      "source": [
        "def func_sin(x, n):\n",
        "  e_approx = 0\n",
        "  sin_approx = 0\n",
        "  for i in range(n):\n",
        "        coef = (-1)**i\n",
        "        num = x**((2*i)+1)\n",
        "        denom = math.factorial((2*i)+1)\n",
        "        sin_approx += ( coef ) * ( (num)/(denom) )\n",
        "\n",
        "  return(sin_approx)"
      ],
      "execution_count": 121,
      "outputs": []
    },
    {
      "cell_type": "code",
      "metadata": {
        "id": "IRCOSIXWE8dt",
        "outputId": "302483ec-e740-47b2-e128-9bea47e00091",
        "colab": {
          "base_uri": "https://localhost:8080/"
        }
      },
      "source": [
        "out= func_sin(math.radians(90),10)\n",
        "print(out)"
      ],
      "execution_count": 122,
      "outputs": [
        {
          "output_type": "stream",
          "text": [
            "1.0\n"
          ],
          "name": "stdout"
        }
      ]
    },
    {
      "cell_type": "code",
      "metadata": {
        "id": "RL2SIoW9FxC4",
        "outputId": "0f6f5437-66e7-4d82-f41b-5d9cb736b05a",
        "colab": {
          "base_uri": "https://localhost:8080/"
        }
      },
      "source": [
        "x = math.radians(90)\n",
        "for i in range(1,11):\n",
        "    sin_approx = func_sin(x,i)\n",
        "    sin_exp = math.sin(x)\n",
        "    sin_error = abs(sin_approx - sin_exp)\n",
        "    print(f'{i} terms: Taylor Series approx= {sin_approx}, sin calc= {sin_exp}, error = {sin_error}')"
      ],
      "execution_count": 123,
      "outputs": [
        {
          "output_type": "stream",
          "text": [
            "1 terms: Taylor Series approx= 1.5707963267948966, sin calc= 1.0, error = 0.5707963267948966\n",
            "2 terms: Taylor Series approx= 0.9248322292886504, sin calc= 1.0, error = 0.07516777071134961\n",
            "3 terms: Taylor Series approx= 1.0045248555348174, sin calc= 1.0, error = 0.004524855534817407\n",
            "4 terms: Taylor Series approx= 0.9998431013994987, sin calc= 1.0, error = 0.00015689860050127624\n",
            "5 terms: Taylor Series approx= 1.0000035425842861, sin calc= 1.0, error = 3.542584286142514e-06\n",
            "6 terms: Taylor Series approx= 0.999999943741051, sin calc= 1.0, error = 5.625894905492146e-08\n",
            "7 terms: Taylor Series approx= 1.0000000006627803, sin calc= 1.0, error = 6.627802751069112e-10\n",
            "8 terms: Taylor Series approx= 0.9999999999939768, sin calc= 1.0, error = 6.023181953196399e-12\n",
            "9 terms: Taylor Series approx= 1.0000000000000437, sin calc= 1.0, error = 4.374278717023117e-14\n",
            "10 terms: Taylor Series approx= 1.0, sin calc= 1.0, error = 0.0\n"
          ],
          "name": "stdout"
        }
      ]
    },
    {
      "cell_type": "code",
      "metadata": {
        "id": "CqHlT3LBGAd0",
        "outputId": "e07f5928-1994-42ad-c8cd-badf5b85a52f",
        "colab": {
          "base_uri": "https://localhost:8080/"
        }
      },
      "source": [
        "x = math.radians(90)\n",
        "for i in range(1,20):\n",
        "    sin_approx = func_sin(x,i)\n",
        "    sin_exp = math.sin(x)\n",
        "    sin_error = abs(sin_approx - sin_exp)\n",
        "    if e_error < 1:\n",
        "        break\n",
        "        \n",
        "print(f'{i} terms: Taylor Series approx= {sin_approx}, sin calc= {sin_exp}, error = {sin_error}')"
      ],
      "execution_count": 124,
      "outputs": [
        {
          "output_type": "stream",
          "text": [
            "1 terms: Taylor Series approx= 1.5707963267948966, sin calc= 1.0, error = 0.5707963267948966\n"
          ],
          "name": "stdout"
        }
      ]
    },
    {
      "cell_type": "code",
      "metadata": {
        "id": "bayiTRUyGENf",
        "outputId": "76568f04-7e9f-4d86-a921-662ce4a46e45",
        "colab": {
          "base_uri": "https://localhost:8080/",
          "height": 265
        }
      },
      "source": [
        "\n",
        "angles = np.arange(-2*np.pi,2*np.pi,0.1)\n",
        "p_sin = np.sin(angles)\n",
        "t_sin = [func_sin(angle,3) for angle in angles]\n",
        "\n",
        "fig, ax = plt.subplots()\n",
        "ax.plot(axes,p_sin)\n",
        "ax.plot(axes,t_sin)\n",
        "ax.set_ylim([-5,5])\n",
        "ax.legend(['math.exp() function','Taylor Series - 5 terms'])\n",
        "\n",
        "plt.show()"
      ],
      "execution_count": 131,
      "outputs": [
        {
          "output_type": "display_data",
          "data": {
            "image/png": "[encoded data removed]",
            "text/plain": [
              "<Figure size 432x288 with 1 Axes>"
            ]
          },
          "metadata": {
            "tags": [],
            "needs_background": "light"
          }
        }
      ]
    },
    {
      "cell_type": "code",
      "metadata": {
        "id": "LXau1RxkGLpm",
        "outputId": "7077deeb-c440-477c-a15e-5ec846c5be89",
        "colab": {
          "base_uri": "https://localhost:8080/",
          "height": 269
        }
      },
      "source": [
        "angles = np.arange(-2*np.pi,2*np.pi,0.1)\n",
        "p_sin = np.sin(angles)\n",
        "\n",
        "fig, ax = plt.subplots()\n",
        "ax.plot(angles,p_cos)\n",
        "\n",
        "# add lines for between 1 and 6 terms in the Taylor Series\n",
        "for i in range(1,9):\n",
        "    t_sin = [func_sin(angle,i) for angle in angles]\n",
        "    ax.plot(angles,t_sin)\n",
        "\n",
        "ax.set_ylim([-7,4])\n",
        "\n",
        "# set up legend\n",
        "legend_lst = ['sin() function']\n",
        "for i in range(1,9):\n",
        "    legend_lst.append(f'Taylor Series - {i} terms')\n",
        "ax.legend(legend_lst, loc=3)\n",
        "\n",
        "plt.show()"
      ],
      "execution_count": 143,
      "outputs": [
        {
          "output_type": "display_data",
          "data": {
            "image/png": "[encoded data removed]",
            "text/plain": [
              "<Figure size 432x288 with 1 Axes>"
            ]
          },
          "metadata": {
            "tags": [],
            "needs_background": "light"
          }
        }
      ]
    },
    {
      "cell_type": "markdown",
      "metadata": {
        "id": "U02NKPBbK1o5"
      },
      "source": [
        "# Taylor Series for $$ Cos(x)$$"
      ]
    },
    {
      "cell_type": "code",
      "metadata": {
        "id": "T-xer7ZxK550",
        "outputId": "c574c869-f296-4e67-dcca-4a4e357930a9",
        "colab": {
          "base_uri": "https://localhost:8080/"
        }
      },
      "source": [
        "x = math.radians(45)\n",
        "cos_pi_2 = 1- x**2/math.factorial(2) + x**4/math.factorial(4) + x**6/math.factorial(6) + x**8/math.factorial(8) + x**10/math.factorial(10)\n",
        "print(cos_pi_2)"
      ],
      "execution_count": 151,
      "outputs": [
        {
          "output_type": "stream",
          "text": [
            "0.7077588140685185\n"
          ],
          "name": "stdout"
        }
      ]
    },
    {
      "cell_type": "code",
      "metadata": {
        "id": "wsqeOtybLIpe",
        "outputId": "0790bb6b-17e9-4009-83b8-29b5a48f38fc",
        "colab": {
          "base_uri": "https://localhost:8080/"
        }
      },
      "source": [
        "print(math.cos(math.radians(45)))"
      ],
      "execution_count": 149,
      "outputs": [
        {
          "output_type": "stream",
          "text": [
            "0.7071067811865476\n"
          ],
          "name": "stdout"
        }
      ]
    },
    {
      "cell_type": "code",
      "metadata": {
        "id": "xdoVoZ8sLMtr",
        "outputId": "d7355aaa-08eb-4399-b30a-0f12e2f63c5b",
        "colab": {
          "base_uri": "https://localhost:8080/"
        }
      },
      "source": [
        "x = math.radians(45)\n",
        "cos_approx = 0\n",
        "for i in range(5):\n",
        "        coef = (-1)**i\n",
        "        num = x**(2*i)\n",
        "        denom = math.factorial(2*i)\n",
        "        cos_approx += ( coef ) * ( (num)/(denom) )\n",
        "\n",
        "print(cos_approx)"
      ],
      "execution_count": 150,
      "outputs": [
        {
          "output_type": "stream",
          "text": [
            "0.7071068056832942\n"
          ],
          "name": "stdout"
        }
      ]
    },
    {
      "cell_type": "code",
      "metadata": {
        "id": "0u-lezvQLPcv",
        "outputId": "598df0b2-d976-4d4a-8791-11b8934b3417",
        "colab": {
          "base_uri": "https://localhost:8080/"
        }
      },
      "source": [
        "x = math.radians(45)\n",
        "cos_approx = 0\n",
        "for i in range(10):\n",
        "        coef = (-1)**i\n",
        "        num = x**(2*i)\n",
        "        denom = math.factorial(2*i)\n",
        "        cos_approx += ( coef ) * ( (num)/(denom) )\n",
        "\n",
        "print(sin_approx)"
      ],
      "execution_count": 154,
      "outputs": [
        {
          "output_type": "stream",
          "text": [
            "0.7071067811865475\n"
          ],
          "name": "stdout"
        }
      ]
    },
    {
      "cell_type": "code",
      "metadata": {
        "id": "_qQOXNPFLSAE"
      },
      "source": [
        "def cos_approx_pi_2(n):\n",
        "  x = math.radians(90)\n",
        "  cos_approx = 0\n",
        "  for i in range(n):\n",
        "        coef = (-1)**i\n",
        "        num = x**(2*i)\n",
        "        denom = math.factorial(2*i)\n",
        "        cos_approx += ( coef ) * ( (num)/(denom) )\n",
        "\n",
        "  return(sin_approx)"
      ],
      "execution_count": 156,
      "outputs": []
    },
    {
      "cell_type": "code",
      "metadata": {
        "id": "howN1rhuLVF4",
        "outputId": "583c4fe4-e6b2-49b5-a90b-1c7354e10145",
        "colab": {
          "base_uri": "https://localhost:8080/"
        }
      },
      "source": [
        "out = cos_approx_pi_2(10)\n",
        "print(out)"
      ],
      "execution_count": 157,
      "outputs": [
        {
          "output_type": "stream",
          "text": [
            "0.7071067811865475\n"
          ],
          "name": "stdout"
        }
      ]
    },
    {
      "cell_type": "code",
      "metadata": {
        "id": "JfPOrcl9LY51"
      },
      "source": [
        "def func_cos(x, n):\n",
        "  e_approx = 0\n",
        "  cos_approx = 0\n",
        "  for i in range(n):\n",
        "        coef = (-1)**i\n",
        "        num = x**(2*i)\n",
        "        denom = math.factorial(2*i)\n",
        "        cos_approx += ( coef ) * ( (num)/(denom) )\n",
        "\n",
        "  return(cos_approx)"
      ],
      "execution_count": 173,
      "outputs": []
    },
    {
      "cell_type": "code",
      "metadata": {
        "id": "bz-h0ckALcGE",
        "outputId": "cd8e99bb-7cae-47df-bd17-eb290e57a808",
        "colab": {
          "base_uri": "https://localhost:8080/"
        }
      },
      "source": [
        "out= func_cos(math.radians(45),10)\n",
        "print(out)"
      ],
      "execution_count": 175,
      "outputs": [
        {
          "output_type": "stream",
          "text": [
            "0.7071067811865475\n"
          ],
          "name": "stdout"
        }
      ]
    },
    {
      "cell_type": "code",
      "metadata": {
        "id": "1e3v-EwSLcI-",
        "outputId": "a68cc87f-fd2d-4f5d-b8bb-559a9e536af4",
        "colab": {
          "base_uri": "https://localhost:8080/"
        }
      },
      "source": [
        "x = math.radians(45)\n",
        "for i in range(1,11):\n",
        "    cos_approx = func_cos(x,i)\n",
        "    cos_exp = math.cos(x)\n",
        "    cos_error = abs(cos_approx - sin_exp)\n",
        "    print(f'{i} terms: Taylor Series approx= {cos_approx}, cos calc= {cos_exp}, error = {cos_error}')"
      ],
      "execution_count": 168,
      "outputs": [
        {
          "output_type": "stream",
          "text": [
            "1 terms: Taylor Series approx= 0.7853981633974483, cos calc= 0.7071067811865476, error = 0.07829138221090082\n",
            "2 terms: Taylor Series approx= 0.7046526512091675, cos calc= 0.7071067811865476, error = 0.0024541299773799263\n",
            "3 terms: Taylor Series approx= 0.7071430457793603, cos calc= 0.7071067811865476, error = 3.626459281280692e-05\n",
            "4 terms: Taylor Series approx= 0.7071064695751781, cos calc= 0.7071067811865476, error = 3.116113693746314e-07\n",
            "5 terms: Taylor Series approx= 0.7071067829368671, cos calc= 0.7071067811865476, error = 1.7503196669821364e-09\n",
            "6 terms: Taylor Series approx= 0.7071067811796194, cos calc= 0.7071067811865476, error = 6.928013718265902e-12\n",
            "7 terms: Taylor Series approx= 0.7071067811865679, cos calc= 0.7071067811865476, error = 2.042810365310288e-14\n",
            "8 terms: Taylor Series approx= 0.7071067811865475, cos calc= 0.7071067811865476, error = 0.0\n",
            "9 terms: Taylor Series approx= 0.7071067811865475, cos calc= 0.7071067811865476, error = 0.0\n",
            "10 terms: Taylor Series approx= 0.7071067811865475, cos calc= 0.7071067811865476, error = 0.0\n"
          ],
          "name": "stdout"
        }
      ]
    },
    {
      "cell_type": "code",
      "metadata": {
        "id": "s2cQdClmb8Y-",
        "outputId": "9a181351-e107-4205-d194-de6079ceda99",
        "colab": {
          "base_uri": "https://localhost:8080/"
        }
      },
      "source": [
        "x = math.radians(90)\n",
        "for i in range(1,20):\n",
        "   cos_approx = func_cos(x,i)\n",
        "   cos_exp = math.cos(x)\n",
        "   cos_error = abs(cos_approx - sin_exp)\n",
        "   if e_error < 1:\n",
        "        break\n",
        "        \n",
        "print(f'{i} terms: Taylor Series approx= {sin_approx}, sin calc= {sin_exp}, error = {sin_error}')"
      ],
      "execution_count": 252,
      "outputs": [
        {
          "output_type": "stream",
          "text": [
            "1 terms: Taylor Series approx= 1.998046875, sin calc= 2.0, error = 0.001953125\n"
          ],
          "name": "stdout"
        }
      ]
    },
    {
      "cell_type": "code",
      "metadata": {
        "id": "JPqa66y0LcOm",
        "outputId": "4f220291-096e-4ac3-95d0-98d7bafb839f",
        "colab": {
          "base_uri": "https://localhost:8080/",
          "height": 265
        }
      },
      "source": [
        "\n",
        "angles = np.arange(-2*np.pi,2*np.pi,0.1)\n",
        "p_cos = np.cos(angles)\n",
        "t_cos = [func_cos(angle,3) for angle in angles]\n",
        "\n",
        "fig, ax = plt.subplots()\n",
        "ax.plot(angles,p_cos)\n",
        "ax.plot(angles,t_cos)\n",
        "ax.set_ylim([-5,5])\n",
        "ax.legend(['math.cos() function','Taylor Series - 5 terms'])\n",
        "\n",
        "plt.show()"
      ],
      "execution_count": 254,
      "outputs": [
        {
          "output_type": "display_data",
          "data": {
            "image/png": "[encoded data removed]",
            "text/plain": [
              "<Figure size 432x288 with 1 Axes>"
            ]
          },
          "metadata": {
            "tags": [],
            "needs_background": "light"
          }
        }
      ]
    },
    {
      "cell_type": "code",
      "metadata": {
        "id": "NsVZ5IG4LcSY",
        "outputId": "8c446fb3-6913-4213-eb42-7eb9b42a5787",
        "colab": {
          "base_uri": "https://localhost:8080/",
          "height": 269
        }
      },
      "source": [
        "angles = np.arange(-2*np.pi,2*np.pi,0.1)\n",
        "p_cos = np.cos(angles)\n",
        "\n",
        "fig, ax = plt.subplots()\n",
        "ax.plot(angles,p_cos)\n",
        "\n",
        "# add lines for between 1 and 6 terms in the Taylor Series\n",
        "for i in range(1,9):\n",
        "    t_cos = [func_cos(angle,i) for angle in angles]\n",
        "    ax.plot(angles,t_cos)\n",
        "\n",
        "ax.set_ylim([-7,4])\n",
        "\n",
        "# set up legend\n",
        "legend_lst = ['sin() function']\n",
        "for i in range(1,9):\n",
        "    legend_lst.append(f'Taylor Series - {i} terms')\n",
        "ax.legend(legend_lst, loc=3)\n",
        "\n",
        "plt.show()"
      ],
      "execution_count": 255,
      "outputs": [
        {
          "output_type": "display_data",
          "data": {
            "image/png": "[encoded data removed]",
            "text/plain": [
              "<Figure size 432x288 with 1 Axes>"
            ]
          },
          "metadata": {
            "tags": [],
            "needs_background": "light"
          }
        }
      ]
    },
    {
      "cell_type": "markdown",
      "metadata": {
        "id": "LklI3xfIM9iV"
      },
      "source": [
        "# Taylor Series for $$ \\frac{1}{1-x}$$"
      ]
    },
    {
      "cell_type": "code",
      "metadata": {
        "id": "2HbW4jBxN198",
        "outputId": "c9bf92d4-765c-4e8f-aec9-18f01526eb7f",
        "colab": {
          "base_uri": "https://localhost:8080/"
        }
      },
      "source": [
        "x = 0.5\n",
        "uno_x = x**0+ x**1 + x**2 + x**3 + x**4 + x**5\n",
        "print(uno_x)"
      ],
      "execution_count": 194,
      "outputs": [
        {
          "output_type": "stream",
          "text": [
            "1.96875\n"
          ],
          "name": "stdout"
        }
      ]
    },
    {
      "cell_type": "code",
      "metadata": {
        "id": "3algDFVRN8Kg",
        "outputId": "e83a5624-47ee-45d4-9b4b-fbb46b3f5d1c",
        "colab": {
          "base_uri": "https://localhost:8080/"
        }
      },
      "source": [
        "print(1/(1-(0.5)))"
      ],
      "execution_count": 195,
      "outputs": [
        {
          "output_type": "stream",
          "text": [
            "2.0\n"
          ],
          "name": "stdout"
        }
      ]
    },
    {
      "cell_type": "code",
      "metadata": {
        "id": "jB0lGXWDOCeE",
        "outputId": "bdf99c43-0bcb-489a-dea0-47efb05b7974",
        "colab": {
          "base_uri": "https://localhost:8080/"
        }
      },
      "source": [
        "x = 0.5\n",
        "func_approx = 0\n",
        "for i in range(5):\n",
        "        num = x**(i)\n",
        "        func_approx += num\n",
        "\n",
        "print(func_approx)"
      ],
      "execution_count": 204,
      "outputs": [
        {
          "output_type": "stream",
          "text": [
            "1.9375\n"
          ],
          "name": "stdout"
        }
      ]
    },
    {
      "cell_type": "code",
      "metadata": {
        "id": "p0y3IknsOHqd",
        "outputId": "e06eefbf-6c45-49c0-e503-2c3e18211027",
        "colab": {
          "base_uri": "https://localhost:8080/"
        }
      },
      "source": [
        "x = 0.5\n",
        "func_approx = 0\n",
        "for i in range(10):\n",
        "        num = x**(i)\n",
        "        func_approx += num\n",
        "\n",
        "print(func_approx)"
      ],
      "execution_count": 205,
      "outputs": [
        {
          "output_type": "stream",
          "text": [
            "1.998046875\n"
          ],
          "name": "stdout"
        }
      ]
    },
    {
      "cell_type": "code",
      "metadata": {
        "id": "cnxMq0V3OQC7"
      },
      "source": [
        "def rational_function(n):\n",
        "  x = 0.5\n",
        "  func_approx = 0\n",
        "  for i in range(10):\n",
        "        num = x**(i)\n",
        "        func_approx += num\n",
        "\n",
        "  return(func_approx)"
      ],
      "execution_count": 240,
      "outputs": []
    },
    {
      "cell_type": "code",
      "metadata": {
        "id": "wn9UoJY1OTTo",
        "outputId": "355f4d9f-d894-4847-c5d3-98d058033f48",
        "colab": {
          "base_uri": "https://localhost:8080/"
        }
      },
      "source": [
        "out = rational_function(10)\n",
        "print(out)"
      ],
      "execution_count": 241,
      "outputs": [
        {
          "output_type": "stream",
          "text": [
            "1.998046875\n"
          ],
          "name": "stdout"
        }
      ]
    },
    {
      "cell_type": "code",
      "metadata": {
        "id": "9tYLHgmTOeCN"
      },
      "source": [
        "def rational(x, n):\n",
        "  \n",
        "  func_approx = 0\n",
        "  for i in range(n):\n",
        "        num = x**(i)\n",
        "        func_approx += num\n",
        "\n",
        "  return(func_approx)"
      ],
      "execution_count": 242,
      "outputs": []
    },
    {
      "cell_type": "code",
      "metadata": {
        "id": "_CSQjCGnOlC8",
        "outputId": "91e8f043-dfd8-4198-ffd6-7a0ec2385bb2",
        "colab": {
          "base_uri": "https://localhost:8080/"
        }
      },
      "source": [
        "out= rational(0.5,10)\n",
        "print(out)"
      ],
      "execution_count": 244,
      "outputs": [
        {
          "output_type": "stream",
          "text": [
            "1.998046875\n"
          ],
          "name": "stdout"
        }
      ]
    },
    {
      "cell_type": "code",
      "metadata": {
        "id": "USCv5i2SOwUF",
        "outputId": "cd7c9880-3d9f-4f08-d67b-1fc985cb87a0",
        "colab": {
          "base_uri": "https://localhost:8080/"
        }
      },
      "source": [
        "x = 0.5\n",
        "for i in range(1,10):\n",
        "    rat_approx = rational(x,i)\n",
        "    rat_exp = 1/(1-x)\n",
        "    rat_error = abs(rat_approx - sin_exp)\n",
        "    print(f'{i} terms: Taylor Series approx= {rat_approx}, rational calc= {rat_exp}, error = {rat_error}')"
      ],
      "execution_count": 250,
      "outputs": [
        {
          "output_type": "stream",
          "text": [
            "1 terms: Taylor Series approx= 1.0, rational calc= 2.0, error = 1.0\n",
            "2 terms: Taylor Series approx= 1.5, rational calc= 2.0, error = 0.5\n",
            "3 terms: Taylor Series approx= 1.75, rational calc= 2.0, error = 0.25\n",
            "4 terms: Taylor Series approx= 1.875, rational calc= 2.0, error = 0.125\n",
            "5 terms: Taylor Series approx= 1.9375, rational calc= 2.0, error = 0.0625\n",
            "6 terms: Taylor Series approx= 1.96875, rational calc= 2.0, error = 0.03125\n",
            "7 terms: Taylor Series approx= 1.984375, rational calc= 2.0, error = 0.015625\n",
            "8 terms: Taylor Series approx= 1.9921875, rational calc= 2.0, error = 0.0078125\n",
            "9 terms: Taylor Series approx= 1.99609375, rational calc= 2.0, error = 0.00390625\n"
          ],
          "name": "stdout"
        }
      ]
    },
    {
      "cell_type": "code",
      "metadata": {
        "id": "MW44PAmacXKI",
        "outputId": "6463081c-90f4-45dc-cb93-fb86e3fd9ce3",
        "colab": {
          "base_uri": "https://localhost:8080/"
        }
      },
      "source": [
        "x = 0.5\n",
        "for i in range(1,20):\n",
        "    rat_approx = rational(x,i)\n",
        "    rat_exp = 1/(1-x)\n",
        "    rat_error = abs(rat_approx - sin_exp)\n",
        "    if rat_error < 1:\n",
        "        break\n",
        "        \n",
        "print(f'{i} terms: Taylor Series approx= {rat_approx}, rational calc= {rat_exp}, error = {rat_error}')"
      ],
      "execution_count": 259,
      "outputs": [
        {
          "output_type": "stream",
          "text": [
            "2 terms: Taylor Series approx= 1.5, rational calc= 2.0, error = 0.5\n"
          ],
          "name": "stdout"
        }
      ]
    },
    {
      "cell_type": "code",
      "metadata": {
        "id": "Mj2vzkIxO278",
        "outputId": "f68ff8ed-803c-4c48-88c3-46e4ed56a193",
        "colab": {
          "base_uri": "https://localhost:8080/",
          "height": 269
        }
      },
      "source": [
        "axes = np.arange(-1,1,0.1)\n",
        "p_ = [1/(1-axe) for axe in axes]\n",
        "t_ = [rational(axe,5) for axe in axes]\n",
        "\n",
        "fig, ax = plt.subplots()\n",
        "ax.plot(axes,p_)\n",
        "ax.plot(axes,t_)\n",
        "ax.set_ylim([-5,15])\n",
        "ax.legend(['rational function','Taylor Series - 5 terms'])\n",
        "\n",
        "plt.show()"
      ],
      "execution_count": 267,
      "outputs": [
        {
          "output_type": "display_data",
          "data": {
            "image/png": "[encoded data removed]",
            "text/plain": [
              "<Figure size 432x288 with 1 Axes>"
            ]
          },
          "metadata": {
            "tags": [],
            "needs_background": "light"
          }
        }
      ]
    },
    {
      "cell_type": "code",
      "metadata": {
        "id": "jgKMBzgcPQUR",
        "outputId": "e4a6e091-ae93-4301-dc9b-af1b2fc00b64",
        "colab": {
          "base_uri": "https://localhost:8080/",
          "height": 269
        }
      },
      "source": [
        "axes = np.arange(-1,1,0.1)\n",
        "p_ = [1/(1-axe) for axe in axes]\n",
        "t_ = [rational(axe,5) for axe in axes]\n",
        "\n",
        "fig, ax = plt.subplots()\n",
        "ax.plot(axes,p_)\n",
        "\n",
        "# add lines for between 1 and 6 terms in the Taylor Series\n",
        "for i in range(1,9):\n",
        "    t_ = [rational(axe,i) for axe in axes]\n",
        "    ax.plot(axes,t_)\n",
        "\n",
        "ax.set_ylim([-7,4])\n",
        "\n",
        "# set up legend\n",
        "legend_lst = ['sin() function']\n",
        "for i in range(1,9):\n",
        "    legend_lst.append(f'Taylor Series - {i} terms')\n",
        "ax.legend(legend_lst, loc=3)\n",
        "\n",
        "plt.show()"
      ],
      "execution_count": 269,
      "outputs": [
        {
          "output_type": "display_data",
          "data": {
            "image/png": "[encoded data removed]",
            "text/plain": [
              "<Figure size 432x288 with 1 Axes>"
            ]
          },
          "metadata": {
            "tags": [],
            "needs_background": "light"
          }
        }
      ]
    },
    {
      "cell_type": "markdown",
      "metadata": {
        "id": "TxLtdOj1Nmnn"
      },
      "source": [
        "# Taylor Series for $$ ln(1+x)$$"
      ]
    },
    {
      "cell_type": "code",
      "metadata": {
        "id": "_nukWJuDN28i",
        "outputId": "a0deddaf-ffc0-45c6-840f-d874f4f82f56",
        "colab": {
          "base_uri": "https://localhost:8080/"
        }
      },
      "source": [
        "x = 0.5\n",
        "ln_1_x = x- x**2/2 + x**3/3 - x**4/4  + x**5/5 - x**6/6\n",
        "print(ln_1_x)"
      ],
      "execution_count": 274,
      "outputs": [
        {
          "output_type": "stream",
          "text": [
            "0.4046875\n"
          ],
          "name": "stdout"
        }
      ]
    },
    {
      "cell_type": "code",
      "metadata": {
        "id": "WKCAXrXoN81C",
        "outputId": "bd1bcf96-59ab-460b-a47f-c5807ca49831",
        "colab": {
          "base_uri": "https://localhost:8080/"
        }
      },
      "source": [
        "print(math.log(1+0.5))"
      ],
      "execution_count": 275,
      "outputs": [
        {
          "output_type": "stream",
          "text": [
            "0.4054651081081644\n"
          ],
          "name": "stdout"
        }
      ]
    },
    {
      "cell_type": "code",
      "metadata": {
        "id": "GsKqJk_XODc5",
        "outputId": "7defbcf8-8318-4468-842e-b41a61ed481c",
        "colab": {
          "base_uri": "https://localhost:8080/"
        }
      },
      "source": [
        "x = 0.5\n",
        "ln_approx = 0\n",
        "for i in range(5):\n",
        "        i+=1\n",
        "        coef = (-1)**(i-1)\n",
        "        num = x**(i)\n",
        "        denom = i\n",
        "        ln_approx += ( coef ) * ( (num)/(denom) )\n",
        "\n",
        "print(ln_approx)"
      ],
      "execution_count": 285,
      "outputs": [
        {
          "output_type": "stream",
          "text": [
            "0.40729166666666666\n"
          ],
          "name": "stdout"
        }
      ]
    },
    {
      "cell_type": "code",
      "metadata": {
        "id": "bvY9FCcWOInr",
        "outputId": "d406673a-b1fa-41a5-8d8b-fde4a2fd21bc",
        "colab": {
          "base_uri": "https://localhost:8080/"
        }
      },
      "source": [
        "x = 0.5\n",
        "ln_approx = 0\n",
        "for i in range(10):\n",
        "        i+=1\n",
        "        coef = (-1)**(i-1)\n",
        "        num = x**(i)\n",
        "        denom = i\n",
        "        ln_approx += ( coef ) * ( (num)/(denom) )\n",
        "\n",
        "print(ln_approx )"
      ],
      "execution_count": 287,
      "outputs": [
        {
          "output_type": "stream",
          "text": [
            "0.4054346478174603\n"
          ],
          "name": "stdout"
        }
      ]
    },
    {
      "cell_type": "code",
      "metadata": {
        "id": "yQPF06QsOM-f"
      },
      "source": [
        "def Ln_approx_1_x(n):\n",
        "  x = 0.5\n",
        "  ln_approx = 0\n",
        "  for i in range(n):\n",
        "        i+=1\n",
        "        coef = (-1)**(i-1)\n",
        "        num = x**(i)\n",
        "        denom = i\n",
        "        ln_approx += ( coef ) * ( (num)/(denom) )\n",
        "\n",
        "  return(ln_approx)"
      ],
      "execution_count": 290,
      "outputs": []
    },
    {
      "cell_type": "code",
      "metadata": {
        "id": "lD4_DZkGOUuf",
        "outputId": "af330c6f-fdb6-4014-9920-2165baef23f4",
        "colab": {
          "base_uri": "https://localhost:8080/"
        }
      },
      "source": [
        "out = Ln_approx_1_x(10)\n",
        "print(out)"
      ],
      "execution_count": 292,
      "outputs": [
        {
          "output_type": "stream",
          "text": [
            "0.4054346478174603\n"
          ],
          "name": "stdout"
        }
      ]
    },
    {
      "cell_type": "code",
      "metadata": {
        "id": "lahNuIBSOfYO"
      },
      "source": [
        "def func_ln_1_x(x, n):\n",
        "  \n",
        "  ln_approx = 0\n",
        "  for i in range(n):\n",
        "        i+=1\n",
        "        coef = (-1)**(i-1)\n",
        "        num = x**(i)\n",
        "        denom = i\n",
        "        ln_approx += ( coef ) * ( (num)/(denom) )\n",
        "\n",
        "  return(ln_approx)\n",
        "  "
      ],
      "execution_count": 369,
      "outputs": []
    },
    {
      "cell_type": "code",
      "metadata": {
        "id": "LL-tTNS6OmDD",
        "outputId": "0e20df5b-6152-4a6f-f815-6e263a5d8627",
        "colab": {
          "base_uri": "https://localhost:8080/"
        }
      },
      "source": [
        "out= func_ln_1_x(0.5,10)\n",
        "print(out)"
      ],
      "execution_count": 349,
      "outputs": [
        {
          "output_type": "stream",
          "text": [
            "-0.6930648561507935\n"
          ],
          "name": "stdout"
        }
      ]
    },
    {
      "cell_type": "code",
      "metadata": {
        "id": "98TN1xRAOrzY",
        "outputId": "d7351959-0c8d-456e-f36a-4c1de8783f76",
        "colab": {
          "base_uri": "https://localhost:8080/"
        }
      },
      "source": [
        "x = 0.5\n",
        "for i in range(1,11):\n",
        "    ln_approx = func_ln_1_x(x,i)\n",
        "    ln_exp = (math.log(1+x))\n",
        "    ln_error = abs(ln_approx - ln_exp)\n",
        "    print(f'{i} terms: Taylor Series approx= {ln_approx}, ln calc= {ln_exp}, error = {ln_error}')"
      ],
      "execution_count": 309,
      "outputs": [
        {
          "output_type": "stream",
          "text": [
            "1 terms: Taylor Series approx= 0.5, ln calc= 0.4054651081081644, error = 0.09453489189183562\n",
            "2 terms: Taylor Series approx= 0.375, ln calc= 0.4054651081081644, error = 0.030465108108164385\n",
            "3 terms: Taylor Series approx= 0.4166666666666667, ln calc= 0.4054651081081644, error = 0.0112015585585023\n",
            "4 terms: Taylor Series approx= 0.4010416666666667, ln calc= 0.4054651081081644, error = 0.0044234414414977\n",
            "5 terms: Taylor Series approx= 0.40729166666666666, ln calc= 0.4054651081081644, error = 0.001826558558502278\n",
            "6 terms: Taylor Series approx= 0.4046875, ln calc= 0.4054651081081644, error = 0.0007776081081644071\n",
            "7 terms: Taylor Series approx= 0.40580357142857143, ln calc= 0.4054651081081644, error = 0.0003384633204070453\n",
            "8 terms: Taylor Series approx= 0.40531529017857143, ln calc= 0.4054651081081644, error = 0.0001498179295929547\n",
            "9 terms: Taylor Series approx= 0.4055323040674603, ln calc= 0.4054651081081644, error = 6.719595929594036e-05\n",
            "10 terms: Taylor Series approx= 0.4054346478174603, ln calc= 0.4054651081081644, error = 3.046029070408185e-05\n"
          ],
          "name": "stdout"
        }
      ]
    },
    {
      "cell_type": "code",
      "metadata": {
        "id": "Hfe7J_VCgs7-",
        "outputId": "dc6deffc-0f92-449f-d11a-4f58fa5631cb",
        "colab": {
          "base_uri": "https://localhost:8080/"
        }
      },
      "source": [
        "x = 0.5\n",
        "for i in range(1,20):\n",
        "    ln_approx = func_ln_1_x(x,i)\n",
        "    ln_exp = (math.log(1+x))\n",
        "    ln_error = abs(ln_approx - ln_exp)\n",
        "    if ln_error < 1:\n",
        "        break\n",
        "        \n",
        "print(f'{i} terms: Taylor Series approx= {ln_approx}, logarithmical calc= {ln_exp}, error = {ln_error}')"
      ],
      "execution_count": 350,
      "outputs": [
        {
          "output_type": "stream",
          "text": [
            "1 terms: Taylor Series approx= 0.5, logarithmical calc= 0.4054651081081644, error = 0.09453489189183562\n"
          ],
          "name": "stdout"
        }
      ]
    },
    {
      "cell_type": "code",
      "metadata": {
        "id": "JVd7L8SSO_3G",
        "outputId": "c72b34e0-1f1f-4ade-d0ea-85b2caec0676",
        "colab": {
          "base_uri": "https://localhost:8080/",
          "height": 265
        }
      },
      "source": [
        "axes = np.arange(0.1,1,0.1)\n",
        "p_ln = [np.log(axe+1) for axe in axes]\n",
        "t_ln = [func_ln_1_x(axe,3) for axe in axes]\n",
        "\n",
        "fig, ax = plt.subplots()\n",
        "ax.plot(axes,p_ln)\n",
        "ax.plot(axes,t_ln)\n",
        "ax.set_ylim([-5,5])\n",
        "ax.legend(['math.exp() function','Taylor Series - 5 terms'])\n",
        "\n",
        "plt.show()\n",
        "\n"
      ],
      "execution_count": 353,
      "outputs": [
        {
          "output_type": "display_data",
          "data": {
            "image/png": "[encoded data removed]",
            "text/plain": [
              "<Figure size 432x288 with 1 Axes>"
            ]
          },
          "metadata": {
            "tags": [],
            "needs_background": "light"
          }
        }
      ]
    },
    {
      "cell_type": "code",
      "metadata": {
        "id": "TBlUGj64PThA",
        "outputId": "9ce5d906-3020-4fd8-9136-c267c677af7b",
        "colab": {
          "base_uri": "https://localhost:8080/",
          "height": 269
        }
      },
      "source": [
        "axes = np.arange(-0.9,1,0.1)\n",
        "p_ln = [math.log(axe+1) for axe in axes]\n",
        "\n",
        "fig, ax = plt.subplots()\n",
        "ax.plot(axes,p_ln)\n",
        "\n",
        "# add lines for between 1 and 6 terms in the Taylor Series\n",
        "for i in range(1,9):  \n",
        "   \n",
        "    t_ln = [func_ln_1_x(axe,i) for axe in axes]\n",
        "    ax.plot(axes,t_ln)\n",
        "\n",
        "ax.set_ylim([-7,4])\n",
        "\n",
        "# set up legend\n",
        "legend_lst = ['sin() function']\n",
        "for i in range(1,9):\n",
        "    legend_lst.append(f'Taylor Series - {i} terms')\n",
        "ax.legend(legend_lst, loc=4)\n",
        "\n",
        "plt.show()"
      ],
      "execution_count": 372,
      "outputs": [
        {
          "output_type": "display_data",
          "data": {
            "image/png": "[encoded data removed]",
            "text/plain": [
              "<Figure size 432x288 with 1 Axes>"
            ]
          },
          "metadata": {
            "tags": [],
            "needs_background": "light"
          }
        }
      ]
    },
    {
      "cell_type": "markdown",
      "metadata": {
        "id": "OTVlt1ccNuQi"
      },
      "source": [
        "# Taylor Series for $$ ln(x)$$"
      ]
    },
    {
      "cell_type": "code",
      "metadata": {
        "id": "_ma6S6n2LcDN",
        "outputId": "03de661a-6c2c-4e18-cbc9-74a1dfd42abf",
        "colab": {
          "base_uri": "https://localhost:8080/"
        }
      },
      "source": [
        "x = 0.3\n",
        "ln_0_3 = (x-1)- (x-1)**2/2 + (x-1)**3/3 + (x-1)**4/4 + (x-1)**5/5 + (x-1)**6/6\n",
        "print(ln_0_3)"
      ],
      "execution_count": 373,
      "outputs": [
        {
          "output_type": "stream",
          "text": [
            "-1.0133141666666665\n"
          ],
          "name": "stdout"
        }
      ]
    },
    {
      "cell_type": "code",
      "metadata": {
        "id": "3-Jfla7PN_KT",
        "outputId": "490a273e-2201-41bb-ef83-66bda61570a3",
        "colab": {
          "base_uri": "https://localhost:8080/"
        }
      },
      "source": [
        "print(math.log(0.3))"
      ],
      "execution_count": 374,
      "outputs": [
        {
          "output_type": "stream",
          "text": [
            "-1.2039728043259361\n"
          ],
          "name": "stdout"
        }
      ]
    },
    {
      "cell_type": "code",
      "metadata": {
        "id": "1U458hYeOEOQ",
        "outputId": "916b40ff-f607-4b4d-aa59-8eabedc53816",
        "colab": {
          "base_uri": "https://localhost:8080/"
        }
      },
      "source": [
        "x = 0.3\n",
        "ln_approx = 0\n",
        "for i in range(5):\n",
        "        i+=1\n",
        "        coef = (-1)**(i-1)\n",
        "        num = (x-1)**(i)\n",
        "        denom = i\n",
        "        ln_approx += ( coef ) * ( (num)/(denom) )\n",
        "\n",
        "print(ln_approx)"
      ],
      "execution_count": 378,
      "outputs": [
        {
          "output_type": "stream",
          "text": [
            "-1.1529723333333333\n"
          ],
          "name": "stdout"
        }
      ]
    },
    {
      "cell_type": "code",
      "metadata": {
        "id": "NyeH4E-IOJa_",
        "outputId": "b2d741b8-a2dd-4a33-ae21-d32b7e3fd528",
        "colab": {
          "base_uri": "https://localhost:8080/"
        }
      },
      "source": [
        "x = 0.3\n",
        "ln_approx = 0\n",
        "for i in range(10):\n",
        "        i+=1\n",
        "        coef = (-1)**(i-1)\n",
        "        num = (x-1)**(i)\n",
        "        denom = i\n",
        "        ln_approx += ( coef ) * ( (num)/(denom) )\n",
        "\n",
        "print(ln_approx)"
      ],
      "execution_count": 379,
      "outputs": [
        {
          "output_type": "stream",
          "text": [
            "-1.198859887851111\n"
          ],
          "name": "stdout"
        }
      ]
    },
    {
      "cell_type": "code",
      "metadata": {
        "id": "ii-mxIK9ON7B"
      },
      "source": [
        "def ln_approx_0_3(n):\n",
        " x = 0.3\n",
        " ln_approx = 0\n",
        " for i in range(n):\n",
        "        i+=1\n",
        "        coef = (-1)**(i-1)\n",
        "        num = (x-1)**(i)\n",
        "        denom = i\n",
        "        ln_approx += ( coef ) * ( (num)/(denom) )\n",
        "\n",
        " return(ln_approx)"
      ],
      "execution_count": 386,
      "outputs": []
    },
    {
      "cell_type": "code",
      "metadata": {
        "id": "KAAQ6deDOVnz",
        "outputId": "71d63820-15e7-4579-8d71-e4a9f793ef43",
        "colab": {
          "base_uri": "https://localhost:8080/"
        }
      },
      "source": [
        "out = ln_approx_0_3(10)\n",
        "print(out)"
      ],
      "execution_count": 387,
      "outputs": [
        {
          "output_type": "stream",
          "text": [
            "-1.198859887851111\n"
          ],
          "name": "stdout"
        }
      ]
    },
    {
      "cell_type": "code",
      "metadata": {
        "id": "kgN1vsg_OgaW"
      },
      "source": [
        "def ln_approx_func(x,n):\n",
        " \n",
        " ln_approx = 0\n",
        " for i in range(n):\n",
        "        i+=1\n",
        "        coef = (-1)**(i-1)\n",
        "        num = (x-1)**(i)\n",
        "        denom = i\n",
        "        ln_approx += ( coef ) * ( (num)/(denom) )\n",
        "\n",
        " return(ln_approx)\n"
      ],
      "execution_count": 394,
      "outputs": []
    },
    {
      "cell_type": "code",
      "metadata": {
        "id": "0-uY9ayEOnWi",
        "outputId": "7f061ed9-fb6b-4cc6-9567-5a301a6a149d",
        "colab": {
          "base_uri": "https://localhost:8080/"
        }
      },
      "source": [
        "out= ln_approx(0.3,10)\n",
        "print(out)"
      ],
      "execution_count": 392,
      "outputs": [
        {
          "output_type": "stream",
          "text": [
            "-1.198859887851111\n"
          ],
          "name": "stdout"
        }
      ]
    },
    {
      "cell_type": "code",
      "metadata": {
        "id": "NkxtiEE5Os_E",
        "outputId": "99acc278-1909-4a1b-edc1-740a7141ee02",
        "colab": {
          "base_uri": "https://localhost:8080/"
        }
      },
      "source": [
        "x = 0.3\n",
        "for i in range(1,11):\n",
        "    ln_approx = ln_approx_func(x,i)\n",
        "    ln_exp = math.log(x)\n",
        "    ln_error = abs(ln_approx - ln_exp)\n",
        "    print(f'{i} terms: Taylor Series approx= {ln_approx}, ln calc= {ln_exp}, error = {ln_error}')"
      ],
      "execution_count": 397,
      "outputs": [
        {
          "output_type": "stream",
          "text": [
            "1 terms: Taylor Series approx= -0.7, ln calc= -1.2039728043259361, error = 0.5039728043259362\n",
            "2 terms: Taylor Series approx= -0.945, ln calc= -1.2039728043259361, error = 0.25897280432593617\n",
            "3 terms: Taylor Series approx= -1.0593333333333332, ln calc= -1.2039728043259361, error = 0.14463947099260288\n",
            "4 terms: Taylor Series approx= -1.1193583333333332, ln calc= -1.2039728043259361, error = 0.08461447099260289\n",
            "5 terms: Taylor Series approx= -1.1529723333333333, ln calc= -1.2039728043259361, error = 0.05100047099260285\n",
            "6 terms: Taylor Series approx= -1.1725805, ln calc= -1.2039728043259361, error = 0.03139230432593609\n",
            "7 terms: Taylor Series approx= -1.1843454, ln calc= -1.2039728043259361, error = 0.019627404325936126\n",
            "8 terms: Taylor Series approx= -1.19155140125, ln calc= -1.2039728043259361, error = 0.0124214030759362\n",
            "9 terms: Taylor Series approx= -1.196035135361111, ln calc= -1.2039728043259361, error = 0.007937668964825173\n",
            "10 terms: Taylor Series approx= -1.198859887851111, ln calc= -1.2039728043259361, error = 0.0051129164748251466\n"
          ],
          "name": "stdout"
        }
      ]
    },
    {
      "cell_type": "code",
      "metadata": {
        "id": "voy2hjKHpeFo",
        "outputId": "c673cca6-74fd-4287-d926-2971f66dc8fb",
        "colab": {
          "base_uri": "https://localhost:8080/"
        }
      },
      "source": [
        "x = 0.3\n",
        "for i in range(1,20):\n",
        "    ln_approx = ln_approx_func(x,i)\n",
        "    ln_exp = math.log(x)\n",
        "    ln_error = abs(ln_approx - ln_exp)\n",
        "    if ln_error < 1:\n",
        "        break\n",
        "        \n",
        "print(f'{i} terms: Taylor Series approx= {ln_approx}, logarithmical calc= {ln_exp}, error = {ln_error}')"
      ],
      "execution_count": 399,
      "outputs": [
        {
          "output_type": "stream",
          "text": [
            "1 terms: Taylor Series approx= -0.7, logarithmical calc= -1.2039728043259361, error = 0.5039728043259362\n"
          ],
          "name": "stdout"
        }
      ]
    },
    {
      "cell_type": "code",
      "metadata": {
        "id": "6V6N7RFvPDIh",
        "outputId": "5521a0b5-153d-4218-80ed-2b45be7b621a",
        "colab": {
          "base_uri": "https://localhost:8080/",
          "height": 265
        }
      },
      "source": [
        "axes = np.arange(0.1,1,0.1)\n",
        "p_ln = [np.log(axe+1) for axe in axes]\n",
        "t_ln = [ln_approx_func(axe,3) for axe in axes]\n",
        "\n",
        "fig, ax = plt.subplots()\n",
        "ax.plot(axes,p_ln)\n",
        "ax.plot(axes,t_ln)\n",
        "ax.set_ylim([-5,5])\n",
        "ax.legend(['math.exp() function','Taylor Series - 5 terms'])\n",
        "\n",
        "plt.show()"
      ],
      "execution_count": 402,
      "outputs": [
        {
          "output_type": "display_data",
          "data": {
            "image/png": "[encoded data removed]",
            "text/plain": [
              "<Figure size 432x288 with 1 Axes>"
            ]
          },
          "metadata": {
            "tags": [],
            "needs_background": "light"
          }
        }
      ]
    },
    {
      "cell_type": "code",
      "metadata": {
        "id": "q0OwV7nRPVYD",
        "outputId": "fcf803d1-dea6-458a-b9f7-a7a72f2a4373",
        "colab": {
          "base_uri": "https://localhost:8080/",
          "height": 269
        }
      },
      "source": [
        "axes = np.arange(-0.9,1,0.1)\n",
        "p_ln = [math.log(axe+1) for axe in axes]\n",
        "\n",
        "fig, ax = plt.subplots()\n",
        "ax.plot(axes,p_ln)\n",
        "\n",
        "# add lines for between 1 and 6 terms in the Taylor Series\n",
        "for i in range(1,9):  \n",
        "   \n",
        "    t_ln = [ln_approx_func(axe,i) for axe in axes]\n",
        "    ax.plot(axes,t_ln)\n",
        "\n",
        "ax.set_ylim([-7,4])\n",
        "\n",
        "# set up legend\n",
        "legend_lst = ['sin() function']\n",
        "for i in range(1,9):\n",
        "    legend_lst.append(f'Taylor Series - {i} terms')\n",
        "ax.legend(legend_lst, loc=4)\n",
        "\n",
        "plt.show()"
      ],
      "execution_count": 403,
      "outputs": [
        {
          "output_type": "display_data",
          "data": {
            "image/png": "[encoded data removed]",
            "text/plain": [
              "<Figure size 432x288 with 1 Axes>"
            ]
          },
          "metadata": {
            "tags": [],
            "needs_background": "light"
          }
        }
      ]
    }
  ]
}