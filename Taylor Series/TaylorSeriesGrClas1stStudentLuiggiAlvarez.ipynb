{
  "nbformat": 4,
  "nbformat_minor": 0,
  "metadata": {
    "colab": {
      "name": "TaylorSeriesGrClas1stStudentLuiggiAlvarez.ipynb",
      "provenance": []
    },
    "kernelspec": {
      "name": "python3",
      "display_name": "Python 3"
    }
  },
  "cells": [
    {
      "cell_type": "markdown",
      "metadata": {
        "id": "Si2fE49_-RiD"
      },
      "source": [
        "## Taylor Series\n",
        "\n",
        "- Luiggi Alexander Alvarez Velasquez"
      ]
    },
    {
      "cell_type": "markdown",
      "metadata": {
        "id": "44HMzVT4hxRH"
      },
      "source": [
        "\n",
        " # Taylor Series for $$e^x$$"
      ]
    },
    {
      "cell_type": "code",
      "metadata": {
        "id": "-bYGAPCi9NJ1",
        "outputId": "66c1dcfb-90a3-4bc3-d38c-eb21ad2a3c2c",
        "colab": {
          "base_uri": "https://localhost:8080/"
        }
      },
      "source": [
        "\n",
        "import math\n",
        "\n",
        "x = 2\n",
        "e_to_2 = x**0/math.factorial(0) + x**1/math.factorial(1) + x**2/math.factorial(2) + x**3/math.factorial(3) + x**4/math.factorial(4)\n",
        "print(e_to_2)"
      ],
      "execution_count": 1,
      "outputs": [
        {
          "output_type": "stream",
          "text": [
            "7.0\n"
          ],
          "name": "stdout"
        }
      ]
    },
    {
      "cell_type": "code",
      "metadata": {
        "id": "dJLeSYSqidap",
        "outputId": "10882db9-7974-490f-ee6c-58c4d83e9438",
        "colab": {
          "base_uri": "https://localhost:8080/"
        }
      },
      "source": [
        "\n",
        "print(math.exp(2))"
      ],
      "execution_count": 2,
      "outputs": [
        {
          "output_type": "stream",
          "text": [
            "7.38905609893065\n"
          ],
          "name": "stdout"
        }
      ]
    },
    {
      "cell_type": "code",
      "metadata": {
        "id": "_D7t7MX0ie9A",
        "outputId": "2a8ca9b9-55dc-4d7f-b58f-158d7f1ef4f3",
        "colab": {
          "base_uri": "https://localhost:8080/"
        }
      },
      "source": [
        "\n",
        "x = 2\n",
        "e_to_2 = 0\n",
        "for i in range(5):\n",
        "    e_to_2 += x**i/math.factorial(i)\n",
        "    \n",
        "print(e_to_2)"
      ],
      "execution_count": 3,
      "outputs": [
        {
          "output_type": "stream",
          "text": [
            "7.0\n"
          ],
          "name": "stdout"
        }
      ]
    },
    {
      "cell_type": "code",
      "metadata": {
        "id": "PW_PqYYNihxL",
        "outputId": "756c823d-f542-4036-c331-d46a49f7480e",
        "colab": {
          "base_uri": "https://localhost:8080/"
        }
      },
      "source": [
        "\n",
        "\n",
        "x = 2\n",
        "e_to_2 = 0\n",
        "for i in range(10):\n",
        "    e_to_2 += x**i/math.factorial(i)\n",
        "    \n",
        "print(e_to_2)"
      ],
      "execution_count": 4,
      "outputs": [
        {
          "output_type": "stream",
          "text": [
            "7.3887125220458545\n"
          ],
          "name": "stdout"
        }
      ]
    },
    {
      "cell_type": "code",
      "metadata": {
        "id": "Li_KhSOmikhj"
      },
      "source": [
        "import math\n",
        "\n",
        "def func_e_to_2(n):\n",
        "    x = 2\n",
        "    e_to_2 = 0\n",
        "    for i in range(n):\n",
        "        e_to_2 += x**i/math.factorial(i)\n",
        "    \n",
        "    return e_to_2"
      ],
      "execution_count": 5,
      "outputs": []
    },
    {
      "cell_type": "code",
      "metadata": {
        "id": "n-1tGGaQiysj",
        "outputId": "d775aa78-4b16-4d85-eecd-810434e73c5f",
        "colab": {
          "base_uri": "https://localhost:8080/"
        }
      },
      "source": [
        "out = func_e_to_2(10)\n",
        "print(out)"
      ],
      "execution_count": 6,
      "outputs": [
        {
          "output_type": "stream",
          "text": [
            "7.3887125220458545\n"
          ],
          "name": "stdout"
        }
      ]
    },
    {
      "cell_type": "code",
      "metadata": {
        "id": "iVUiRQX5i6x3"
      },
      "source": [
        "import math\n",
        "\n",
        "def func_e(x, n):\n",
        "    e_approx = 0\n",
        "    for i in range(n):\n",
        "        e_approx += x**i/math.factorial(i)\n",
        "    \n",
        "    return e_approx"
      ],
      "execution_count": 7,
      "outputs": []
    },
    {
      "cell_type": "code",
      "metadata": {
        "id": "ijcIJwYEi7kV",
        "outputId": "f7b8d18b-a60e-479e-a2d3-dcb0cb477973",
        "colab": {
          "base_uri": "https://localhost:8080/"
        }
      },
      "source": [
        "out= func_e(2,100)\n",
        "print(out)"
      ],
      "execution_count": 8,
      "outputs": [
        {
          "output_type": "stream",
          "text": [
            "7.389056098930649\n"
          ],
          "name": "stdout"
        }
      ]
    },
    {
      "cell_type": "code",
      "metadata": {
        "id": "HbdNAIbbjEld",
        "outputId": "b2cdc709-969c-46a6-c332-946bca079371",
        "colab": {
          "base_uri": "https://localhost:8080/"
        }
      },
      "source": [
        "out = func_e(5,10)\n",
        "print(out)"
      ],
      "execution_count": 9,
      "outputs": [
        {
          "output_type": "stream",
          "text": [
            "143.68945656966488\n"
          ],
          "name": "stdout"
        }
      ]
    },
    {
      "cell_type": "code",
      "metadata": {
        "id": "SMlCPXudjFSC",
        "outputId": "d441a270-a34b-4279-f1bd-ec0fab13afc6",
        "colab": {
          "base_uri": "https://localhost:8080/"
        }
      },
      "source": [
        "print(math.exp(5))"
      ],
      "execution_count": 10,
      "outputs": [
        {
          "output_type": "stream",
          "text": [
            "148.4131591025766\n"
          ],
          "name": "stdout"
        }
      ]
    },
    {
      "cell_type": "code",
      "metadata": {
        "id": "N1V3YyYAjWhf",
        "outputId": "4d8ffe22-2c31-419e-fbbb-bd4ecb4b2187",
        "colab": {
          "base_uri": "https://localhost:8080/"
        }
      },
      "source": [
        "import math\n",
        "\n",
        "x = 5\n",
        "for i in range(1,11):\n",
        "    e_approx = func_e(x,i)\n",
        "    e_exp = math.exp(x)\n",
        "    e_error = abs(e_approx - e_exp)\n",
        "    print(f'{i} terms: Taylor Series approx= {e_approx}, exp calc= {e_exp}, error = {e_error}')\n"
      ],
      "execution_count": 11,
      "outputs": [
        {
          "output_type": "stream",
          "text": [
            "1 terms: Taylor Series approx= 1.0, exp calc= 148.4131591025766, error = 147.4131591025766\n",
            "2 terms: Taylor Series approx= 6.0, exp calc= 148.4131591025766, error = 142.4131591025766\n",
            "3 terms: Taylor Series approx= 18.5, exp calc= 148.4131591025766, error = 129.9131591025766\n",
            "4 terms: Taylor Series approx= 39.33333333333333, exp calc= 148.4131591025766, error = 109.07982576924327\n",
            "5 terms: Taylor Series approx= 65.375, exp calc= 148.4131591025766, error = 83.0381591025766\n",
            "6 terms: Taylor Series approx= 91.41666666666667, exp calc= 148.4131591025766, error = 56.99649243590993\n",
            "7 terms: Taylor Series approx= 113.11805555555556, exp calc= 148.4131591025766, error = 35.29510354702104\n",
            "8 terms: Taylor Series approx= 128.61904761904762, exp calc= 148.4131591025766, error = 19.79411148352898\n",
            "9 terms: Taylor Series approx= 138.30716765873015, exp calc= 148.4131591025766, error = 10.105991443846449\n",
            "10 terms: Taylor Series approx= 143.68945656966488, exp calc= 148.4131591025766, error = 4.723702532911716\n"
          ],
          "name": "stdout"
        }
      ]
    },
    {
      "cell_type": "code",
      "metadata": {
        "id": "R9TkSdtijmnD",
        "outputId": "37b60a7f-9fa2-4fc1-9fa9-8e63745b180c",
        "colab": {
          "base_uri": "https://localhost:8080/"
        }
      },
      "source": [
        "import math\n",
        "\n",
        "x = 5\n",
        "for i in range(1,20):\n",
        "    e_approx = func_e(x,i)\n",
        "    e_exp = math.exp(x)\n",
        "    e_error = abs(e_approx - e_exp)\n",
        "    if e_error < 1:\n",
        "        break\n",
        "        \n",
        "print(f'{i} terms: Taylor Series approx= {e_approx}, exp calc= {e_exp}, error = {e_error}')"
      ],
      "execution_count": 12,
      "outputs": [
        {
          "output_type": "stream",
          "text": [
            "12 terms: Taylor Series approx= 147.60384850489015, exp calc= 148.4131591025766, error = 0.8093105976864479\n"
          ],
          "name": "stdout"
        }
      ]
    },
    {
      "cell_type": "code",
      "metadata": {
        "id": "59bsqG1vj1CY",
        "outputId": "4ab8ea85-ae1e-41e2-ceeb-def47ba81e31",
        "colab": {
          "base_uri": "https://localhost:8080/",
          "height": 265
        }
      },
      "source": [
        "import math\n",
        "import numpy as np\n",
        "import matplotlib.pyplot as plt\n",
        "# if using a Jupyter notebook, include:\n",
        "%matplotlib inline\n",
        "\n",
        "axes = np.arange(-50,50,0.1)\n",
        "p_cos = [math.exp(angle) for angle in axes]\n",
        "t_cos = [func_e(angle,10) for angle in axes]\n",
        "\n",
        "fig, ax = plt.subplots()\n",
        "ax.plot(axes,p_cos)\n",
        "ax.plot(axes,t_cos)\n",
        "ax.set_ylim([-50,50])\n",
        "ax.legend(['math.exp() function','Taylor Series - 10 terms'])\n",
        "\n",
        "plt.show()"
      ],
      "execution_count": 13,
      "outputs": [
        {
          "output_type": "display_data",
          "data": {
            "image/png": "[encoded data removed]",
            "text/plain": [
              "<Figure size 432x288 with 1 Axes>"
            ]
          },
          "metadata": {
            "tags": [],
            "needs_background": "light"
          }
        }
      ]
    },
    {
      "cell_type": "code",
      "metadata": {
        "id": "zVqap_iWlXyZ",
        "outputId": "abc70dfd-74ae-409b-fb2b-8e5144351393",
        "colab": {
          "base_uri": "https://localhost:8080/",
          "height": 269
        }
      },
      "source": [
        "import math\n",
        "import numpy as np\n",
        "import matplotlib.pyplot as plt\n",
        "# if using a Jupyter notebook, include:\n",
        "%matplotlib inline\n",
        "\n",
        "axes = np.arange(-50,50,0.1)\n",
        "p_exp = [math.exp(axe) for axe in axes]\n",
        "\n",
        "fig, ax = plt.subplots()\n",
        "ax.plot(axes,p_exp)\n",
        "\n",
        "# add lines for between 1 and 6 terms in the Taylor Series\n",
        "for i in range(1,10):\n",
        "    t_exp = [func_e(angle,i) for angle in axes]\n",
        "    ax.plot(axes,t_exp)\n",
        "\n",
        "ax.set_ylim([-40,40])\n",
        "\n",
        "# set up legend\n",
        "legend_lst = ['cos() function']\n",
        "for i in range(1,10):\n",
        "    legend_lst.append(f'Taylor Series - {i} terms')\n",
        "ax.legend(legend_lst, loc=3)\n",
        "\n",
        "plt.show()"
      ],
      "execution_count": 14,
      "outputs": [
        {
          "output_type": "display_data",
          "data": {
            "image/png": "[encoded data removed]",
            "text/plain": [
              "<Figure size 432x288 with 1 Axes>"
            ]
          },
          "metadata": {
            "tags": [],
            "needs_background": "light"
          }
        }
      ]
    },
    {
      "cell_type": "markdown",
      "metadata": {
        "id": "2VLzKPoh4bwI"
      },
      "source": [
        "#Taylor Series for $$ Sin(x) $$"
      ]
    },
    {
      "cell_type": "code",
      "metadata": {
        "id": "_UfU6_YV4nHC",
        "outputId": "13c29805-ec9e-4bc1-be76-a8aa6f0f37f8",
        "colab": {
          "base_uri": "https://localhost:8080/"
        }
      },
      "source": [
        "\n",
        "x = math.radians(90)\n",
        "sin_pi_2 = x- x**3/math.factorial(3) + x**5/math.factorial(5) + x**7/math.factorial(7) + x**9/math.factorial(9) + x**11/math.factorial(11)\n",
        "print(sin_pi_2)"
      ],
      "execution_count": 15,
      "outputs": [
        {
          "output_type": "stream",
          "text": [
            "1.0093706496981587\n"
          ],
          "name": "stdout"
        }
      ]
    },
    {
      "cell_type": "code",
      "metadata": {
        "id": "sGDNCT9BBcWE",
        "outputId": "35601a9c-8a1a-48c6-a4db-9cefe2c44b01",
        "colab": {
          "base_uri": "https://localhost:8080/"
        }
      },
      "source": [
        "print(math.sin(math.radians(90)))"
      ],
      "execution_count": 16,
      "outputs": [
        {
          "output_type": "stream",
          "text": [
            "1.0\n"
          ],
          "name": "stdout"
        }
      ]
    },
    {
      "cell_type": "code",
      "metadata": {
        "id": "6pxGIl-wCMU_",
        "outputId": "eef89e67-ea11-4b1e-d275-4ed85b5ca227",
        "colab": {
          "base_uri": "https://localhost:8080/"
        }
      },
      "source": [
        "x = math.radians(90)\n",
        "sin_approx = 0\n",
        "for i in range(5):\n",
        "        coef = (-1)**i\n",
        "        num = x**((2*i)+1)\n",
        "        denom = math.factorial((2*i)+1)\n",
        "        sin_approx += ( coef ) * ( (num)/(denom) )\n",
        "\n",
        "print(sin_approx)"
      ],
      "execution_count": 17,
      "outputs": [
        {
          "output_type": "stream",
          "text": [
            "1.0000035425842861\n"
          ],
          "name": "stdout"
        }
      ]
    },
    {
      "cell_type": "code",
      "metadata": {
        "id": "tlCmOX7jC4Kj",
        "outputId": "8e5af419-0e49-4818-bd37-c612db0da277",
        "colab": {
          "base_uri": "https://localhost:8080/"
        }
      },
      "source": [
        "x = math.radians(90)\n",
        "sin_approx = 0\n",
        "for i in range(10):\n",
        "        coef = (-1)**i\n",
        "        num = x**((2*i)+1)\n",
        "        denom = math.factorial((2*i)+1)\n",
        "        sin_approx += ( coef ) * ( (num)/(denom) )\n",
        "\n",
        "print(sin_approx)"
      ],
      "execution_count": 18,
      "outputs": [
        {
          "output_type": "stream",
          "text": [
            "1.0\n"
          ],
          "name": "stdout"
        }
      ]
    },
    {
      "cell_type": "code",
      "metadata": {
        "id": "QX3WZuB3DtN2"
      },
      "source": [
        "\n",
        "def sin_approx_pi_2(n):\n",
        "  x = math.radians(90)\n",
        "  sin_approx = 0\n",
        "  for i in range(n):\n",
        "        coef = (-1)**i\n",
        "        num = x**((2*i)+1)\n",
        "        denom = math.factorial((2*i)+1)\n",
        "        sin_approx += ( coef ) * ( (num)/(denom) )\n",
        "\n",
        "  return(sin_approx)"
      ],
      "execution_count": 19,
      "outputs": []
    },
    {
      "cell_type": "code",
      "metadata": {
        "id": "Xjch1dVQEE5O",
        "outputId": "b015b5f0-79ca-4236-d03a-0e263cb003b4",
        "colab": {
          "base_uri": "https://localhost:8080/"
        }
      },
      "source": [
        "out = sin_approx_pi_2(10)\n",
        "print(out)"
      ],
      "execution_count": 20,
      "outputs": [
        {
          "output_type": "stream",
          "text": [
            "1.0\n"
          ],
          "name": "stdout"
        }
      ]
    },
    {
      "cell_type": "code",
      "metadata": {
        "id": "oPwnF0d-ECKE"
      },
      "source": [
        "def func_sin(x, n):\n",
        "  e_approx = 0\n",
        "  sin_approx = 0\n",
        "  for i in range(n):\n",
        "        coef = (-1)**i\n",
        "        num = x**((2*i)+1)\n",
        "        denom = math.factorial((2*i)+1)\n",
        "        sin_approx += ( coef ) * ( (num)/(denom) )\n",
        "\n",
        "  return(sin_approx)"
      ],
      "execution_count": 21,
      "outputs": []
    },
    {
      "cell_type": "code",
      "metadata": {
        "id": "IRCOSIXWE8dt",
        "outputId": "7220aa8c-7041-4f4f-a142-ce30e49fac6b",
        "colab": {
          "base_uri": "https://localhost:8080/"
        }
      },
      "source": [
        "out= func_sin(math.radians(90),10)\n",
        "print(out)"
      ],
      "execution_count": 22,
      "outputs": [
        {
          "output_type": "stream",
          "text": [
            "1.0\n"
          ],
          "name": "stdout"
        }
      ]
    },
    {
      "cell_type": "code",
      "metadata": {
        "id": "RL2SIoW9FxC4",
        "outputId": "99b7565d-1931-4c2a-9e14-3990f17efd59",
        "colab": {
          "base_uri": "https://localhost:8080/"
        }
      },
      "source": [
        "x = math.radians(90)\n",
        "for i in range(1,11):\n",
        "    sin_approx = func_sin(x,i)\n",
        "    sin_exp = math.sin(x)\n",
        "    sin_error = abs(sin_approx - sin_exp)\n",
        "    print(f'{i} terms: Taylor Series approx= {sin_approx}, sin calc= {sin_exp}, error = {sin_error}')"
      ],
      "execution_count": 23,
      "outputs": [
        {
          "output_type": "stream",
          "text": [
            "1 terms: Taylor Series approx= 1.5707963267948966, sin calc= 1.0, error = 0.5707963267948966\n",
            "2 terms: Taylor Series approx= 0.9248322292886504, sin calc= 1.0, error = 0.07516777071134961\n",
            "3 terms: Taylor Series approx= 1.0045248555348174, sin calc= 1.0, error = 0.004524855534817407\n",
            "4 terms: Taylor Series approx= 0.9998431013994987, sin calc= 1.0, error = 0.00015689860050127624\n",
            "5 terms: Taylor Series approx= 1.0000035425842861, sin calc= 1.0, error = 3.542584286142514e-06\n",
            "6 terms: Taylor Series approx= 0.999999943741051, sin calc= 1.0, error = 5.625894905492146e-08\n",
            "7 terms: Taylor Series approx= 1.0000000006627803, sin calc= 1.0, error = 6.627802751069112e-10\n",
            "8 terms: Taylor Series approx= 0.9999999999939768, sin calc= 1.0, error = 6.023181953196399e-12\n",
            "9 terms: Taylor Series approx= 1.0000000000000437, sin calc= 1.0, error = 4.374278717023117e-14\n",
            "10 terms: Taylor Series approx= 1.0, sin calc= 1.0, error = 0.0\n"
          ],
          "name": "stdout"
        }
      ]
    },
    {
      "cell_type": "code",
      "metadata": {
        "id": "CqHlT3LBGAd0",
        "outputId": "5920e97d-bfe0-418d-f69f-413f615f9749",
        "colab": {
          "base_uri": "https://localhost:8080/"
        }
      },
      "source": [
        "x = math.radians(90)\n",
        "for i in range(1,20):\n",
        "    sin_approx = func_sin(x,i)\n",
        "    sin_exp = math.sin(x)\n",
        "    sin_error = abs(sin_approx - sin_exp)\n",
        "    if e_error < 1:\n",
        "        break\n",
        "        \n",
        "print(f'{i} terms: Taylor Series approx= {sin_approx}, sin calc= {sin_exp}, error = {sin_error}')"
      ],
      "execution_count": 24,
      "outputs": [
        {
          "output_type": "stream",
          "text": [
            "1 terms: Taylor Series approx= 1.5707963267948966, sin calc= 1.0, error = 0.5707963267948966\n"
          ],
          "name": "stdout"
        }
      ]
    },
    {
      "cell_type": "code",
      "metadata": {
        "id": "bayiTRUyGENf",
        "outputId": "6be7a300-1aad-4364-d3fe-31c7441fc3f2",
        "colab": {
          "base_uri": "https://localhost:8080/",
          "height": 265
        }
      },
      "source": [
        "\n",
        "angles = np.arange(-2*np.pi,2*np.pi,0.1)\n",
        "p_sin = np.sin(angles)\n",
        "t_sin = [func_sin(angle,3) for angle in angles]\n",
        "\n",
        "fig, ax = plt.subplots()\n",
        "ax.plot(angles,p_sin)\n",
        "ax.plot(angles,t_sin)\n",
        "ax.set_ylim([-5,5])\n",
        "ax.legend(['math.exp() function','Taylor Series - 5 terms'])\n",
        "\n",
        "plt.show()"
      ],
      "execution_count": 25,
      "outputs": [
        {
          "output_type": "display_data",
          "data": {
            "image/png": "[encoded data removed]",
            "text/plain": [
              "<Figure size 432x288 with 1 Axes>"
            ]
          },
          "metadata": {
            "tags": [],
            "needs_background": "light"
          }
        }
      ]
    },
    {
      "cell_type": "code",
      "metadata": {
        "id": "LXau1RxkGLpm",
        "outputId": "7a28bac8-3fcb-4b1c-f44f-169022468f25",
        "colab": {
          "base_uri": "https://localhost:8080/",
          "height": 269
        }
      },
      "source": [
        "angles = np.arange(-2*np.pi,2*np.pi,0.1)\n",
        "p_sin = np.sin(angles)\n",
        "\n",
        "fig, ax = plt.subplots()\n",
        "ax.plot(angles,p_sin)\n",
        "\n",
        "# add lines for between 1 and 6 terms in the Taylor Series\n",
        "for i in range(1,9):\n",
        "    t_sin = [func_sin(angle,i) for angle in angles]\n",
        "    ax.plot(angles,t_sin)\n",
        "\n",
        "ax.set_ylim([-7,4])\n",
        "\n",
        "# set up legend\n",
        "legend_lst = ['sin() function']\n",
        "for i in range(1,9):\n",
        "    legend_lst.append(f'Taylor Series - {i} terms')\n",
        "ax.legend(legend_lst, loc=3)\n",
        "\n",
        "plt.show()"
      ],
      "execution_count": 26,
      "outputs": [
        {
          "output_type": "display_data",
          "data": {
            "image/png": "[encoded data removed]",
            "text/plain": [
              "<Figure size 432x288 with 1 Axes>"
            ]
          },
          "metadata": {
            "tags": [],
            "needs_background": "light"
          }
        }
      ]
    },
    {
      "cell_type": "markdown",
      "metadata": {
        "id": "U02NKPBbK1o5"
      },
      "source": [
        "# Taylor Series for $$ Cos(x)$$"
      ]
    },
    {
      "cell_type": "code",
      "metadata": {
        "id": "T-xer7ZxK550",
        "outputId": "a81db226-fb23-4bed-a8b3-2a94b17de584",
        "colab": {
          "base_uri": "https://localhost:8080/"
        }
      },
      "source": [
        "x = math.radians(45)\n",
        "cos_pi_2 = 1- x**2/math.factorial(2) + x**4/math.factorial(4) + x**6/math.factorial(6) + x**8/math.factorial(8) + x**10/math.factorial(10)\n",
        "print(cos_pi_2)"
      ],
      "execution_count": 27,
      "outputs": [
        {
          "output_type": "stream",
          "text": [
            "0.7077588140685185\n"
          ],
          "name": "stdout"
        }
      ]
    },
    {
      "cell_type": "code",
      "metadata": {
        "id": "wsqeOtybLIpe",
        "outputId": "b98fac5c-c0f0-4ad8-8787-97e778481690",
        "colab": {
          "base_uri": "https://localhost:8080/"
        }
      },
      "source": [
        "print(math.cos(math.radians(45)))"
      ],
      "execution_count": 28,
      "outputs": [
        {
          "output_type": "stream",
          "text": [
            "0.7071067811865476\n"
          ],
          "name": "stdout"
        }
      ]
    },
    {
      "cell_type": "code",
      "metadata": {
        "id": "xdoVoZ8sLMtr",
        "outputId": "7727837e-65ee-499f-e8e8-0ecadad328da",
        "colab": {
          "base_uri": "https://localhost:8080/"
        }
      },
      "source": [
        "x = math.radians(45)\n",
        "cos_approx = 0\n",
        "for i in range(5):\n",
        "        coef = (-1)**i\n",
        "        num = x**(2*i)\n",
        "        denom = math.factorial(2*i)\n",
        "        cos_approx += ( coef ) * ( (num)/(denom) )\n",
        "\n",
        "print(cos_approx)"
      ],
      "execution_count": 29,
      "outputs": [
        {
          "output_type": "stream",
          "text": [
            "0.7071068056832942\n"
          ],
          "name": "stdout"
        }
      ]
    },
    {
      "cell_type": "code",
      "metadata": {
        "id": "0u-lezvQLPcv",
        "outputId": "f025f146-cd70-4f3b-fe43-9e6ebe2ba4b1",
        "colab": {
          "base_uri": "https://localhost:8080/"
        }
      },
      "source": [
        "x = math.radians(45)\n",
        "cos_approx = 0\n",
        "for i in range(10):\n",
        "        coef = (-1)**i\n",
        "        num = x**(2*i)\n",
        "        denom = math.factorial(2*i)\n",
        "        cos_approx += ( coef ) * ( (num)/(denom) )\n",
        "\n",
        "print(sin_approx)"
      ],
      "execution_count": 30,
      "outputs": [
        {
          "output_type": "stream",
          "text": [
            "1.5707963267948966\n"
          ],
          "name": "stdout"
        }
      ]
    },
    {
      "cell_type": "code",
      "metadata": {
        "id": "_qQOXNPFLSAE"
      },
      "source": [
        "def cos_approx_pi_2(n):\n",
        "  x = math.radians(90)\n",
        "  cos_approx = 0\n",
        "  for i in range(n):\n",
        "        coef = (-1)**i\n",
        "        num = x**(2*i)\n",
        "        denom = math.factorial(2*i)\n",
        "        cos_approx += ( coef ) * ( (num)/(denom) )\n",
        "\n",
        "  return(sin_approx)"
      ],
      "execution_count": 31,
      "outputs": []
    },
    {
      "cell_type": "code",
      "metadata": {
        "id": "howN1rhuLVF4",
        "outputId": "a6a2bd63-ebaf-4e9c-d5db-c5ad8458f093",
        "colab": {
          "base_uri": "https://localhost:8080/"
        }
      },
      "source": [
        "out = cos_approx_pi_2(10)\n",
        "print(out)"
      ],
      "execution_count": 32,
      "outputs": [
        {
          "output_type": "stream",
          "text": [
            "1.5707963267948966\n"
          ],
          "name": "stdout"
        }
      ]
    },
    {
      "cell_type": "code",
      "metadata": {
        "id": "JfPOrcl9LY51"
      },
      "source": [
        "def func_cos(x, n):\n",
        "  e_approx = 0\n",
        "  cos_approx = 0\n",
        "  for i in range(n):\n",
        "        coef = (-1)**i\n",
        "        num = x**(2*i)\n",
        "        denom = math.factorial(2*i)\n",
        "        cos_approx += ( coef ) * ( (num)/(denom) )\n",
        "\n",
        "  return(cos_approx)"
      ],
      "execution_count": 33,
      "outputs": []
    },
    {
      "cell_type": "code",
      "metadata": {
        "id": "bz-h0ckALcGE",
        "outputId": "1379e552-7cab-4492-94cb-49794378bf86",
        "colab": {
          "base_uri": "https://localhost:8080/"
        }
      },
      "source": [
        "out= func_cos(math.radians(45),10)\n",
        "print(out)"
      ],
      "execution_count": 34,
      "outputs": [
        {
          "output_type": "stream",
          "text": [
            "0.7071067811865475\n"
          ],
          "name": "stdout"
        }
      ]
    },
    {
      "cell_type": "code",
      "metadata": {
        "id": "1e3v-EwSLcI-",
        "outputId": "656f8088-2c5e-4fa3-b7ae-9f84097f0967",
        "colab": {
          "base_uri": "https://localhost:8080/"
        }
      },
      "source": [
        "x = math.radians(45)\n",
        "for i in range(1,11):\n",
        "    cos_approx = func_cos(x,i)\n",
        "    cos_exp = math.cos(x)\n",
        "    cos_error = abs(cos_approx - sin_exp)\n",
        "    print(f'{i} terms: Taylor Series approx= {cos_approx}, cos calc= {cos_exp}, error = {cos_error}')"
      ],
      "execution_count": 35,
      "outputs": [
        {
          "output_type": "stream",
          "text": [
            "1 terms: Taylor Series approx= 1.0, cos calc= 0.7071067811865476, error = 0.0\n",
            "2 terms: Taylor Series approx= 0.6915748624659576, cos calc= 0.7071067811865476, error = 0.30842513753404244\n",
            "3 terms: Taylor Series approx= 0.707429206709773, cos calc= 0.7071067811865476, error = 0.29257079329022695\n",
            "4 terms: Taylor Series approx= 0.7071032148228457, cos calc= 0.7071067811865476, error = 0.29289678517715434\n",
            "5 terms: Taylor Series approx= 0.7071068056832942, cos calc= 0.7071067811865476, error = 0.2928931943167058\n",
            "6 terms: Taylor Series approx= 0.7071067810719247, cos calc= 0.7071067811865476, error = 0.2928932189280753\n",
            "7 terms: Taylor Series approx= 0.7071067811869363, cos calc= 0.7071067811865476, error = 0.29289321881306374\n",
            "8 terms: Taylor Series approx= 0.7071067811865465, cos calc= 0.7071067811865476, error = 0.29289321881345354\n",
            "9 terms: Taylor Series approx= 0.7071067811865475, cos calc= 0.7071067811865476, error = 0.29289321881345254\n",
            "10 terms: Taylor Series approx= 0.7071067811865475, cos calc= 0.7071067811865476, error = 0.29289321881345254\n"
          ],
          "name": "stdout"
        }
      ]
    },
    {
      "cell_type": "code",
      "metadata": {
        "id": "s2cQdClmb8Y-",
        "outputId": "ddd4b3dc-e8fd-487c-abff-383cd538439b",
        "colab": {
          "base_uri": "https://localhost:8080/"
        }
      },
      "source": [
        "x = math.radians(90)\n",
        "for i in range(1,20):\n",
        "   cos_approx = func_cos(x,i)\n",
        "   cos_exp = math.cos(x)\n",
        "   cos_error = abs(cos_approx - sin_exp)\n",
        "   if e_error < 1:\n",
        "        break\n",
        "        \n",
        "print(f'{i} terms: Taylor Series approx= {sin_approx}, sin calc= {sin_exp}, error = {sin_error}')"
      ],
      "execution_count": 36,
      "outputs": [
        {
          "output_type": "stream",
          "text": [
            "1 terms: Taylor Series approx= 1.5707963267948966, sin calc= 1.0, error = 0.5707963267948966\n"
          ],
          "name": "stdout"
        }
      ]
    },
    {
      "cell_type": "code",
      "metadata": {
        "id": "JPqa66y0LcOm",
        "outputId": "6a66a050-bdd3-4047-9fee-296b543252cd",
        "colab": {
          "base_uri": "https://localhost:8080/",
          "height": 265
        }
      },
      "source": [
        "\n",
        "angles = np.arange(-2*np.pi,2*np.pi,0.1)\n",
        "p_cos = np.cos(angles)\n",
        "t_cos = [func_cos(angle,3) for angle in angles]\n",
        "\n",
        "fig, ax = plt.subplots()\n",
        "ax.plot(angles,p_cos)\n",
        "ax.plot(angles,t_cos)\n",
        "ax.set_ylim([-5,5])\n",
        "ax.legend(['math.cos() function','Taylor Series - 5 terms'])\n",
        "\n",
        "plt.show()"
      ],
      "execution_count": 37,
      "outputs": [
        {
          "output_type": "display_data",
          "data": {
            "image/png": "[encoded data removed]",
            "text/plain": [
              "<Figure size 432x288 with 1 Axes>"
            ]
          },
          "metadata": {
            "tags": [],
            "needs_background": "light"
          }
        }
      ]
    },
    {
      "cell_type": "code",
      "metadata": {
        "id": "NsVZ5IG4LcSY",
        "outputId": "c45a1e65-e893-4a3d-ad5a-fda1b6565230",
        "colab": {
          "base_uri": "https://localhost:8080/",
          "height": 269
        }
      },
      "source": [
        "angles = np.arange(-2*np.pi,2*np.pi,0.1)\n",
        "p_cos = np.cos(angles)\n",
        "\n",
        "fig, ax = plt.subplots()\n",
        "ax.plot(angles,p_cos)\n",
        "\n",
        "# add lines for between 1 and 6 terms in the Taylor Series\n",
        "for i in range(1,9):\n",
        "    t_cos = [func_cos(angle,i) for angle in angles]\n",
        "    ax.plot(angles,t_cos)\n",
        "\n",
        "ax.set_ylim([-7,4])\n",
        "\n",
        "# set up legend\n",
        "legend_lst = ['sin() function']\n",
        "for i in range(1,9):\n",
        "    legend_lst.append(f'Taylor Series - {i} terms')\n",
        "ax.legend(legend_lst, loc=3)\n",
        "\n",
        "plt.show()"
      ],
      "execution_count": 38,
      "outputs": [
        {
          "output_type": "display_data",
          "data": {
            "image/png": "[encoded data removed]",
            "text/plain": [
              "<Figure size 432x288 with 1 Axes>"
            ]
          },
          "metadata": {
            "tags": [],
            "needs_background": "light"
          }
        }
      ]
    },
    {
      "cell_type": "markdown",
      "metadata": {
        "id": "LklI3xfIM9iV"
      },
      "source": [
        "# Taylor Series for $$ \\frac{1}{1-x}$$"
      ]
    },
    {
      "cell_type": "code",
      "metadata": {
        "id": "2HbW4jBxN198",
        "outputId": "742f4369-bb00-48f0-c0a5-b0a0002c9adf",
        "colab": {
          "base_uri": "https://localhost:8080/"
        }
      },
      "source": [
        "x = 0.5\n",
        "uno_x = x**0+ x**1 + x**2 + x**3 + x**4 + x**5\n",
        "print(uno_x)"
      ],
      "execution_count": 39,
      "outputs": [
        {
          "output_type": "stream",
          "text": [
            "1.96875\n"
          ],
          "name": "stdout"
        }
      ]
    },
    {
      "cell_type": "code",
      "metadata": {
        "id": "3algDFVRN8Kg",
        "outputId": "c525320b-eb40-436c-bd02-a6cbb137f62c",
        "colab": {
          "base_uri": "https://localhost:8080/"
        }
      },
      "source": [
        "print(1/(1-(0.5)))"
      ],
      "execution_count": 40,
      "outputs": [
        {
          "output_type": "stream",
          "text": [
            "2.0\n"
          ],
          "name": "stdout"
        }
      ]
    },
    {
      "cell_type": "code",
      "metadata": {
        "id": "jB0lGXWDOCeE",
        "outputId": "879a512f-d4cb-48bc-fe2c-b535138ed41c",
        "colab": {
          "base_uri": "https://localhost:8080/"
        }
      },
      "source": [
        "x = 0.5\n",
        "func_approx = 0\n",
        "for i in range(5):\n",
        "        num = x**(i)\n",
        "        func_approx += num\n",
        "\n",
        "print(func_approx)"
      ],
      "execution_count": 41,
      "outputs": [
        {
          "output_type": "stream",
          "text": [
            "1.9375\n"
          ],
          "name": "stdout"
        }
      ]
    },
    {
      "cell_type": "code",
      "metadata": {
        "id": "p0y3IknsOHqd",
        "outputId": "6f2e93f9-eb59-4ec1-c767-52109c587f52",
        "colab": {
          "base_uri": "https://localhost:8080/"
        }
      },
      "source": [
        "x = 0.5\n",
        "func_approx = 0\n",
        "for i in range(10):\n",
        "        num = x**(i)\n",
        "        func_approx += num\n",
        "\n",
        "print(func_approx)"
      ],
      "execution_count": 42,
      "outputs": [
        {
          "output_type": "stream",
          "text": [
            "1.998046875\n"
          ],
          "name": "stdout"
        }
      ]
    },
    {
      "cell_type": "code",
      "metadata": {
        "id": "cnxMq0V3OQC7"
      },
      "source": [
        "def rational_function(n):\n",
        "  x = 0.5\n",
        "  func_approx = 0\n",
        "  for i in range(10):\n",
        "        num = x**(i)\n",
        "        func_approx += num\n",
        "\n",
        "  return(func_approx)"
      ],
      "execution_count": 43,
      "outputs": []
    },
    {
      "cell_type": "code",
      "metadata": {
        "id": "wn9UoJY1OTTo",
        "outputId": "18de8635-93d3-4585-fb1d-9854fec125c2",
        "colab": {
          "base_uri": "https://localhost:8080/"
        }
      },
      "source": [
        "out = rational_function(10)\n",
        "print(out)"
      ],
      "execution_count": 44,
      "outputs": [
        {
          "output_type": "stream",
          "text": [
            "1.998046875\n"
          ],
          "name": "stdout"
        }
      ]
    },
    {
      "cell_type": "code",
      "metadata": {
        "id": "9tYLHgmTOeCN"
      },
      "source": [
        "def rational(x, n):\n",
        "  \n",
        "  func_approx = 0\n",
        "  for i in range(n):\n",
        "        num = x**(i)\n",
        "        func_approx += num\n",
        "\n",
        "  return(func_approx)"
      ],
      "execution_count": 45,
      "outputs": []
    },
    {
      "cell_type": "code",
      "metadata": {
        "id": "_CSQjCGnOlC8",
        "outputId": "fb7577c2-4334-4cf1-c007-a4c78d302a1a",
        "colab": {
          "base_uri": "https://localhost:8080/"
        }
      },
      "source": [
        "out= rational(0.5,10)\n",
        "print(out)"
      ],
      "execution_count": 46,
      "outputs": [
        {
          "output_type": "stream",
          "text": [
            "1.998046875\n"
          ],
          "name": "stdout"
        }
      ]
    },
    {
      "cell_type": "code",
      "metadata": {
        "id": "USCv5i2SOwUF",
        "outputId": "09be56f6-458b-4119-ead7-9fc385bae2f3",
        "colab": {
          "base_uri": "https://localhost:8080/"
        }
      },
      "source": [
        "x = 0.5\n",
        "for i in range(1,10):\n",
        "    rat_approx = rational(x,i)\n",
        "    rat_exp = 1/(1-x)\n",
        "    rat_error = abs(rat_approx - sin_exp)\n",
        "    print(f'{i} terms: Taylor Series approx= {rat_approx}, rational calc= {rat_exp}, error = {rat_error}')"
      ],
      "execution_count": 47,
      "outputs": [
        {
          "output_type": "stream",
          "text": [
            "1 terms: Taylor Series approx= 1.0, rational calc= 2.0, error = 0.0\n",
            "2 terms: Taylor Series approx= 1.5, rational calc= 2.0, error = 0.5\n",
            "3 terms: Taylor Series approx= 1.75, rational calc= 2.0, error = 0.75\n",
            "4 terms: Taylor Series approx= 1.875, rational calc= 2.0, error = 0.875\n",
            "5 terms: Taylor Series approx= 1.9375, rational calc= 2.0, error = 0.9375\n",
            "6 terms: Taylor Series approx= 1.96875, rational calc= 2.0, error = 0.96875\n",
            "7 terms: Taylor Series approx= 1.984375, rational calc= 2.0, error = 0.984375\n",
            "8 terms: Taylor Series approx= 1.9921875, rational calc= 2.0, error = 0.9921875\n",
            "9 terms: Taylor Series approx= 1.99609375, rational calc= 2.0, error = 0.99609375\n"
          ],
          "name": "stdout"
        }
      ]
    },
    {
      "cell_type": "code",
      "metadata": {
        "id": "MW44PAmacXKI",
        "outputId": "1618ff28-0211-4fd9-8680-27673699bed2",
        "colab": {
          "base_uri": "https://localhost:8080/"
        }
      },
      "source": [
        "x = 0.5\n",
        "for i in range(1,20):\n",
        "    rat_approx = rational(x,i)\n",
        "    rat_exp = 1/(1-x)\n",
        "    rat_error = abs(rat_approx - sin_exp)\n",
        "    if rat_error < 1:\n",
        "        break\n",
        "        \n",
        "print(f'{i} terms: Taylor Series approx= {rat_approx}, rational calc= {rat_exp}, error = {rat_error}')"
      ],
      "execution_count": 48,
      "outputs": [
        {
          "output_type": "stream",
          "text": [
            "1 terms: Taylor Series approx= 1.0, rational calc= 2.0, error = 0.0\n"
          ],
          "name": "stdout"
        }
      ]
    },
    {
      "cell_type": "code",
      "metadata": {
        "id": "Mj2vzkIxO278",
        "outputId": "91017a75-aa41-4d37-9c7d-64e73c7eff2e",
        "colab": {
          "base_uri": "https://localhost:8080/",
          "height": 269
        }
      },
      "source": [
        "axes = np.arange(-1,1,0.1)\n",
        "p_ = [1/(1-axe) for axe in axes]\n",
        "t_ = [rational(axe,5) for axe in axes]\n",
        "\n",
        "fig, ax = plt.subplots()\n",
        "ax.plot(axes,p_)\n",
        "ax.plot(axes,t_)\n",
        "ax.set_ylim([-5,15])\n",
        "ax.legend(['rational function','Taylor Series - 5 terms'])\n",
        "\n",
        "plt.show()"
      ],
      "execution_count": 49,
      "outputs": [
        {
          "output_type": "display_data",
          "data": {
            "image/png": "[encoded data removed]",
            "text/plain": [
              "<Figure size 432x288 with 1 Axes>"
            ]
          },
          "metadata": {
            "tags": [],
            "needs_background": "light"
          }
        }
      ]
    },
    {
      "cell_type": "code",
      "metadata": {
        "id": "jgKMBzgcPQUR",
        "outputId": "c8a30bd2-a792-47b1-ba0f-98849cc3ec4c",
        "colab": {
          "base_uri": "https://localhost:8080/",
          "height": 269
        }
      },
      "source": [
        "axes = np.arange(-1,1,0.1)\n",
        "p_ = [1/(1-axe) for axe in axes]\n",
        "t_ = [rational(axe,5) for axe in axes]\n",
        "\n",
        "fig, ax = plt.subplots()\n",
        "ax.plot(axes,p_)\n",
        "\n",
        "# add lines for between 1 and 6 terms in the Taylor Series\n",
        "for i in range(1,9):\n",
        "    t_ = [rational(axe,i) for axe in axes]\n",
        "    ax.plot(axes,t_)\n",
        "\n",
        "ax.set_ylim([-7,4])\n",
        "\n",
        "# set up legend\n",
        "legend_lst = ['rational function']\n",
        "for i in range(1,9):\n",
        "    legend_lst.append(f'Taylor Series - {i} terms')\n",
        "ax.legend(legend_lst, loc=3)\n",
        "\n",
        "plt.show()"
      ],
      "execution_count": 50,
      "outputs": [
        {
          "output_type": "display_data",
          "data": {
            "image/png": "[encoded data removed]",
            "text/plain": [
              "<Figure size 432x288 with 1 Axes>"
            ]
          },
          "metadata": {
            "tags": [],
            "needs_background": "light"
          }
        }
      ]
    },
    {
      "cell_type": "markdown",
      "metadata": {
        "id": "TxLtdOj1Nmnn"
      },
      "source": [
        "# Taylor Series for $$ ln(1+x)$$"
      ]
    },
    {
      "cell_type": "code",
      "metadata": {
        "id": "_nukWJuDN28i",
        "outputId": "66998970-51a3-4c4a-8769-c1c5f923e3c2",
        "colab": {
          "base_uri": "https://localhost:8080/"
        }
      },
      "source": [
        "x = 0.5\n",
        "ln_1_x = x- x**2/2 + x**3/3 - x**4/4  + x**5/5 - x**6/6\n",
        "print(ln_1_x)"
      ],
      "execution_count": 51,
      "outputs": [
        {
          "output_type": "stream",
          "text": [
            "0.4046875\n"
          ],
          "name": "stdout"
        }
      ]
    },
    {
      "cell_type": "code",
      "metadata": {
        "id": "WKCAXrXoN81C",
        "outputId": "da1f58b7-556c-47cb-df0a-a7af8f273026",
        "colab": {
          "base_uri": "https://localhost:8080/"
        }
      },
      "source": [
        "print(math.log(1+0.5))"
      ],
      "execution_count": 52,
      "outputs": [
        {
          "output_type": "stream",
          "text": [
            "0.4054651081081644\n"
          ],
          "name": "stdout"
        }
      ]
    },
    {
      "cell_type": "code",
      "metadata": {
        "id": "GsKqJk_XODc5",
        "outputId": "d598dc54-a22a-40f2-85ac-2a11f225f654",
        "colab": {
          "base_uri": "https://localhost:8080/"
        }
      },
      "source": [
        "x = 0.5\n",
        "ln_approx = 0\n",
        "for i in range(5):\n",
        "        i+=1\n",
        "        coef = (-1)**(i-1)\n",
        "        num = x**(i)\n",
        "        denom = i\n",
        "        ln_approx += ( coef ) * ( (num)/(denom) )\n",
        "\n",
        "print(ln_approx)"
      ],
      "execution_count": 53,
      "outputs": [
        {
          "output_type": "stream",
          "text": [
            "0.40729166666666666\n"
          ],
          "name": "stdout"
        }
      ]
    },
    {
      "cell_type": "code",
      "metadata": {
        "id": "bvY9FCcWOInr",
        "outputId": "898286b1-88e9-417e-d02d-d0bd6fb29f9b",
        "colab": {
          "base_uri": "https://localhost:8080/"
        }
      },
      "source": [
        "x = 0.5\n",
        "ln_approx = 0\n",
        "for i in range(10):\n",
        "        i+=1\n",
        "        coef = (-1)**(i-1)\n",
        "        num = x**(i)\n",
        "        denom = i\n",
        "        ln_approx += ( coef ) * ( (num)/(denom) )\n",
        "\n",
        "print(ln_approx )"
      ],
      "execution_count": 54,
      "outputs": [
        {
          "output_type": "stream",
          "text": [
            "0.4054346478174603\n"
          ],
          "name": "stdout"
        }
      ]
    },
    {
      "cell_type": "code",
      "metadata": {
        "id": "yQPF06QsOM-f"
      },
      "source": [
        "def Ln_approx_1_x(n):\n",
        "  x = 0.5\n",
        "  ln_approx = 0\n",
        "  for i in range(n):\n",
        "        i+=1\n",
        "        coef = (-1)**(i-1)\n",
        "        num = x**(i)\n",
        "        denom = i\n",
        "        ln_approx += ( coef ) * ( (num)/(denom) )\n",
        "\n",
        "  return(ln_approx)"
      ],
      "execution_count": 55,
      "outputs": []
    },
    {
      "cell_type": "code",
      "metadata": {
        "id": "lD4_DZkGOUuf",
        "outputId": "8ea92122-647e-48ae-af8a-9ee597dff5e7",
        "colab": {
          "base_uri": "https://localhost:8080/"
        }
      },
      "source": [
        "out = Ln_approx_1_x(10)\n",
        "print(out)"
      ],
      "execution_count": 56,
      "outputs": [
        {
          "output_type": "stream",
          "text": [
            "0.4054346478174603\n"
          ],
          "name": "stdout"
        }
      ]
    },
    {
      "cell_type": "code",
      "metadata": {
        "id": "lahNuIBSOfYO"
      },
      "source": [
        "def func_ln_1_x(x, n):\n",
        "  \n",
        "  ln_approx = 0\n",
        "  for i in range(n):\n",
        "        i+=1\n",
        "        coef = (-1)**(i-1)\n",
        "        num = x**(i)\n",
        "        denom = i\n",
        "        ln_approx += ( coef ) * ( (num)/(denom) )\n",
        "\n",
        "  return(ln_approx)\n",
        "  "
      ],
      "execution_count": 57,
      "outputs": []
    },
    {
      "cell_type": "code",
      "metadata": {
        "id": "LL-tTNS6OmDD",
        "outputId": "1b404dbb-de1e-4153-cf08-838195818c84",
        "colab": {
          "base_uri": "https://localhost:8080/"
        }
      },
      "source": [
        "out= func_ln_1_x(0.5,10)\n",
        "print(out)"
      ],
      "execution_count": 58,
      "outputs": [
        {
          "output_type": "stream",
          "text": [
            "0.4054346478174603\n"
          ],
          "name": "stdout"
        }
      ]
    },
    {
      "cell_type": "code",
      "metadata": {
        "id": "98TN1xRAOrzY",
        "outputId": "34bbdbdc-b02e-4555-fd10-fe1a34637a25",
        "colab": {
          "base_uri": "https://localhost:8080/"
        }
      },
      "source": [
        "x = 0.5\n",
        "for i in range(1,11):\n",
        "    ln_approx = func_ln_1_x(x,i)\n",
        "    ln_exp = (math.log(1+x))\n",
        "    ln_error = abs(ln_approx - ln_exp)\n",
        "    print(f'{i} terms: Taylor Series approx= {ln_approx}, ln calc= {ln_exp}, error = {ln_error}')"
      ],
      "execution_count": 59,
      "outputs": [
        {
          "output_type": "stream",
          "text": [
            "1 terms: Taylor Series approx= 0.5, ln calc= 0.4054651081081644, error = 0.09453489189183562\n",
            "2 terms: Taylor Series approx= 0.375, ln calc= 0.4054651081081644, error = 0.030465108108164385\n",
            "3 terms: Taylor Series approx= 0.4166666666666667, ln calc= 0.4054651081081644, error = 0.0112015585585023\n",
            "4 terms: Taylor Series approx= 0.4010416666666667, ln calc= 0.4054651081081644, error = 0.0044234414414977\n",
            "5 terms: Taylor Series approx= 0.40729166666666666, ln calc= 0.4054651081081644, error = 0.001826558558502278\n",
            "6 terms: Taylor Series approx= 0.4046875, ln calc= 0.4054651081081644, error = 0.0007776081081644071\n",
            "7 terms: Taylor Series approx= 0.40580357142857143, ln calc= 0.4054651081081644, error = 0.0003384633204070453\n",
            "8 terms: Taylor Series approx= 0.40531529017857143, ln calc= 0.4054651081081644, error = 0.0001498179295929547\n",
            "9 terms: Taylor Series approx= 0.4055323040674603, ln calc= 0.4054651081081644, error = 6.719595929594036e-05\n",
            "10 terms: Taylor Series approx= 0.4054346478174603, ln calc= 0.4054651081081644, error = 3.046029070408185e-05\n"
          ],
          "name": "stdout"
        }
      ]
    },
    {
      "cell_type": "code",
      "metadata": {
        "id": "Hfe7J_VCgs7-",
        "outputId": "0bdf8623-ff78-44f4-b938-219c259d1c8c",
        "colab": {
          "base_uri": "https://localhost:8080/"
        }
      },
      "source": [
        "x = 0.5\n",
        "for i in range(1,20):\n",
        "    ln_approx = func_ln_1_x(x,i)\n",
        "    ln_exp = (math.log(1+x))\n",
        "    ln_error = abs(ln_approx - ln_exp)\n",
        "    if ln_error < 1:\n",
        "        break\n",
        "        \n",
        "print(f'{i} terms: Taylor Series approx= {ln_approx}, logarithmical calc= {ln_exp}, error = {ln_error}')"
      ],
      "execution_count": 60,
      "outputs": [
        {
          "output_type": "stream",
          "text": [
            "1 terms: Taylor Series approx= 0.5, logarithmical calc= 0.4054651081081644, error = 0.09453489189183562\n"
          ],
          "name": "stdout"
        }
      ]
    },
    {
      "cell_type": "code",
      "metadata": {
        "id": "JVd7L8SSO_3G",
        "outputId": "7f26e9ae-7d38-4a1a-98c4-ad104ea3ac0e",
        "colab": {
          "base_uri": "https://localhost:8080/",
          "height": 265
        }
      },
      "source": [
        "axes = np.arange(0.1,1,0.1)\n",
        "p_ln = [np.log(axe+1) for axe in axes]\n",
        "t_ln = [func_ln_1_x(axe,3) for axe in axes]\n",
        "\n",
        "fig, ax = plt.subplots()\n",
        "ax.plot(axes,p_ln)\n",
        "ax.plot(axes,t_ln)\n",
        "ax.set_ylim([-5,5])\n",
        "ax.legend(['math.log() function','Taylor Series - 5 terms'])\n",
        "\n",
        "plt.show()\n",
        "\n"
      ],
      "execution_count": 61,
      "outputs": [
        {
          "output_type": "display_data",
          "data": {
            "image/png": "[encoded data removed]",
            "text/plain": [
              "<Figure size 432x288 with 1 Axes>"
            ]
          },
          "metadata": {
            "tags": [],
            "needs_background": "light"
          }
        }
      ]
    },
    {
      "cell_type": "code",
      "metadata": {
        "id": "TBlUGj64PThA",
        "outputId": "ba5dcc0a-94bf-4f1c-df0e-ca79bb35ffa4",
        "colab": {
          "base_uri": "https://localhost:8080/",
          "height": 269
        }
      },
      "source": [
        "axes = np.arange(-0.9,1,0.1)\n",
        "p_ln = [math.log(axe+1) for axe in axes]\n",
        "\n",
        "fig, ax = plt.subplots()\n",
        "ax.plot(axes,p_ln)\n",
        "\n",
        "# add lines for between 1 and 6 terms in the Taylor Series\n",
        "for i in range(1,9):  \n",
        "   \n",
        "    t_ln = [func_ln_1_x(axe,i) for axe in axes]\n",
        "    ax.plot(axes,t_ln)\n",
        "\n",
        "ax.set_ylim([-7,4])\n",
        "\n",
        "# set up legend\n",
        "legend_lst = ['ln() function']\n",
        "for i in range(1,9):\n",
        "    legend_lst.append(f'Taylor Series - {i} terms')\n",
        "ax.legend(legend_lst, loc=4)\n",
        "\n",
        "plt.show()"
      ],
      "execution_count": 62,
      "outputs": [
        {
          "output_type": "display_data",
          "data": {
            "image/png": "[encoded data removed]",
            "text/plain": [
              "<Figure size 432x288 with 1 Axes>"
            ]
          },
          "metadata": {
            "tags": [],
            "needs_background": "light"
          }
        }
      ]
    },
    {
      "cell_type": "markdown",
      "metadata": {
        "id": "OTVlt1ccNuQi"
      },
      "source": [
        "# Taylor Series for $$ ln(x)$$"
      ]
    },
    {
      "cell_type": "code",
      "metadata": {
        "id": "_ma6S6n2LcDN",
        "outputId": "82e4ad61-70e8-4546-8b64-ca8acc1650c6",
        "colab": {
          "base_uri": "https://localhost:8080/"
        }
      },
      "source": [
        "x = 0.3\n",
        "ln_0_3 = (x-1)- (x-1)**2/2 + (x-1)**3/3 + (x-1)**4/4 + (x-1)**5/5 + (x-1)**6/6\n",
        "print(ln_0_3)"
      ],
      "execution_count": 63,
      "outputs": [
        {
          "output_type": "stream",
          "text": [
            "-1.0133141666666665\n"
          ],
          "name": "stdout"
        }
      ]
    },
    {
      "cell_type": "code",
      "metadata": {
        "id": "3-Jfla7PN_KT",
        "outputId": "b1978b83-f838-4833-ebf3-aa9c0ee090ed",
        "colab": {
          "base_uri": "https://localhost:8080/"
        }
      },
      "source": [
        "print(math.log(0.3))"
      ],
      "execution_count": 64,
      "outputs": [
        {
          "output_type": "stream",
          "text": [
            "-1.2039728043259361\n"
          ],
          "name": "stdout"
        }
      ]
    },
    {
      "cell_type": "code",
      "metadata": {
        "id": "1U458hYeOEOQ",
        "outputId": "ed59b7e9-fd4c-482a-c211-09793eca156f",
        "colab": {
          "base_uri": "https://localhost:8080/"
        }
      },
      "source": [
        "x = 0.3\n",
        "ln_approx = 0\n",
        "for i in range(5):\n",
        "        i+=1\n",
        "        coef = (-1)**(i-1)\n",
        "        num = (x-1)**(i)\n",
        "        denom = i\n",
        "        ln_approx += ( coef ) * ( (num)/(denom) )\n",
        "\n",
        "print(ln_approx)"
      ],
      "execution_count": 65,
      "outputs": [
        {
          "output_type": "stream",
          "text": [
            "-1.1529723333333333\n"
          ],
          "name": "stdout"
        }
      ]
    },
    {
      "cell_type": "code",
      "metadata": {
        "id": "NyeH4E-IOJa_",
        "outputId": "ee488759-3373-4b0f-b333-a415b1e6df76",
        "colab": {
          "base_uri": "https://localhost:8080/"
        }
      },
      "source": [
        "x = 0.3\n",
        "ln_approx = 0\n",
        "for i in range(10):\n",
        "        i+=1\n",
        "        coef = (-1)**(i-1)\n",
        "        num = (x-1)**(i)\n",
        "        denom = i\n",
        "        ln_approx += ( coef ) * ( (num)/(denom) )\n",
        "\n",
        "print(ln_approx)"
      ],
      "execution_count": 66,
      "outputs": [
        {
          "output_type": "stream",
          "text": [
            "-1.198859887851111\n"
          ],
          "name": "stdout"
        }
      ]
    },
    {
      "cell_type": "code",
      "metadata": {
        "id": "ii-mxIK9ON7B"
      },
      "source": [
        "def ln_approx_0_3(n):\n",
        " x = 0.3\n",
        " ln_approx = 0\n",
        " for i in range(n):\n",
        "        i+=1\n",
        "        coef = (-1)**(i-1)\n",
        "        num = (x-1)**(i)\n",
        "        denom = i\n",
        "        ln_approx += ( coef ) * ( (num)/(denom) )\n",
        "\n",
        " return(ln_approx)"
      ],
      "execution_count": 67,
      "outputs": []
    },
    {
      "cell_type": "code",
      "metadata": {
        "id": "KAAQ6deDOVnz",
        "outputId": "514e707a-a4a4-4184-a4ff-74123544c856",
        "colab": {
          "base_uri": "https://localhost:8080/"
        }
      },
      "source": [
        "out = ln_approx_0_3(10)\n",
        "print(out)"
      ],
      "execution_count": 68,
      "outputs": [
        {
          "output_type": "stream",
          "text": [
            "-1.198859887851111\n"
          ],
          "name": "stdout"
        }
      ]
    },
    {
      "cell_type": "code",
      "metadata": {
        "id": "kgN1vsg_OgaW"
      },
      "source": [
        "def ln_approx_func(x,n):\n",
        " \n",
        " ln_approx = 0\n",
        " for i in range(n):\n",
        "        i+=1\n",
        "        coef = (-1)**(i-1)\n",
        "        num = (x-1)**(i)\n",
        "        denom = i\n",
        "        ln_approx += ( coef ) * ( (num)/(denom) )\n",
        "\n",
        " return(ln_approx)\n"
      ],
      "execution_count": 69,
      "outputs": []
    },
    {
      "cell_type": "code",
      "metadata": {
        "id": "0-uY9ayEOnWi",
        "outputId": "2ce97cc7-fa8d-4df0-c4a2-dd031b0ad45b",
        "colab": {
          "base_uri": "https://localhost:8080/"
        }
      },
      "source": [
        "out= ln_approx_func(0.3,10)\n",
        "print(out)"
      ],
      "execution_count": 70,
      "outputs": [
        {
          "output_type": "stream",
          "text": [
            "-1.198859887851111\n"
          ],
          "name": "stdout"
        }
      ]
    },
    {
      "cell_type": "code",
      "metadata": {
        "id": "NkxtiEE5Os_E",
        "outputId": "8bf35e10-1cb2-41bc-b771-6c96a4d0e584",
        "colab": {
          "base_uri": "https://localhost:8080/"
        }
      },
      "source": [
        "x = 0.3\n",
        "for i in range(1,11):\n",
        "    ln_approx = ln_approx_func(x,i)\n",
        "    ln_exp = math.log(x)\n",
        "    ln_error = abs(ln_approx - ln_exp)\n",
        "    print(f'{i} terms: Taylor Series approx= {ln_approx}, ln calc= {ln_exp}, error = {ln_error}')"
      ],
      "execution_count": 71,
      "outputs": [
        {
          "output_type": "stream",
          "text": [
            "1 terms: Taylor Series approx= -0.7, ln calc= -1.2039728043259361, error = 0.5039728043259362\n",
            "2 terms: Taylor Series approx= -0.945, ln calc= -1.2039728043259361, error = 0.25897280432593617\n",
            "3 terms: Taylor Series approx= -1.0593333333333332, ln calc= -1.2039728043259361, error = 0.14463947099260288\n",
            "4 terms: Taylor Series approx= -1.1193583333333332, ln calc= -1.2039728043259361, error = 0.08461447099260289\n",
            "5 terms: Taylor Series approx= -1.1529723333333333, ln calc= -1.2039728043259361, error = 0.05100047099260285\n",
            "6 terms: Taylor Series approx= -1.1725805, ln calc= -1.2039728043259361, error = 0.03139230432593609\n",
            "7 terms: Taylor Series approx= -1.1843454, ln calc= -1.2039728043259361, error = 0.019627404325936126\n",
            "8 terms: Taylor Series approx= -1.19155140125, ln calc= -1.2039728043259361, error = 0.0124214030759362\n",
            "9 terms: Taylor Series approx= -1.196035135361111, ln calc= -1.2039728043259361, error = 0.007937668964825173\n",
            "10 terms: Taylor Series approx= -1.198859887851111, ln calc= -1.2039728043259361, error = 0.0051129164748251466\n"
          ],
          "name": "stdout"
        }
      ]
    },
    {
      "cell_type": "code",
      "metadata": {
        "id": "voy2hjKHpeFo",
        "outputId": "6dfc8298-2b88-44eb-9826-c1c2b4c80cc6",
        "colab": {
          "base_uri": "https://localhost:8080/"
        }
      },
      "source": [
        "x = 0.3\n",
        "for i in range(1,20):\n",
        "    ln_approx = ln_approx_func(x,i)\n",
        "    ln_exp = math.log(x)\n",
        "    ln_error = abs(ln_approx - ln_exp)\n",
        "    if ln_error < 1:\n",
        "        break\n",
        "        \n",
        "print(f'{i} terms: Taylor Series approx= {ln_approx}, logarithmical calc= {ln_exp}, error = {ln_error}')"
      ],
      "execution_count": 72,
      "outputs": [
        {
          "output_type": "stream",
          "text": [
            "1 terms: Taylor Series approx= -0.7, logarithmical calc= -1.2039728043259361, error = 0.5039728043259362\n"
          ],
          "name": "stdout"
        }
      ]
    },
    {
      "cell_type": "code",
      "metadata": {
        "id": "6V6N7RFvPDIh",
        "outputId": "67f607df-b7de-469e-c57a-e49b0acd8ca9",
        "colab": {
          "base_uri": "https://localhost:8080/",
          "height": 265
        }
      },
      "source": [
        "axes = np.arange(0.1,1,0.1)\n",
        "p_ln = [np.log(axe+1) for axe in axes]\n",
        "t_ln = [ln_approx_func(axe,3) for axe in axes]\n",
        "\n",
        "fig, ax = plt.subplots()\n",
        "ax.plot(axes,p_ln)\n",
        "ax.plot(axes,t_ln)\n",
        "ax.set_ylim([-5,5])\n",
        "ax.legend(['math.ln() function','Taylor Series - 5 terms'])\n",
        "\n",
        "plt.show()"
      ],
      "execution_count": 73,
      "outputs": [
        {
          "output_type": "display_data",
          "data": {
            "image/png": "[encoded data removed]",
            "text/plain": [
              "<Figure size 432x288 with 1 Axes>"
            ]
          },
          "metadata": {
            "tags": [],
            "needs_background": "light"
          }
        }
      ]
    },
    {
      "cell_type": "code",
      "metadata": {
        "id": "q0OwV7nRPVYD",
        "outputId": "72b17468-ffe6-4484-9b09-45c8ffcae16c",
        "colab": {
          "base_uri": "https://localhost:8080/",
          "height": 269
        }
      },
      "source": [
        "axes = np.arange(-0.9,1,0.1)\n",
        "p_ln = [math.log(axe+1) for axe in axes]\n",
        "\n",
        "fig, ax = plt.subplots()\n",
        "ax.plot(axes,p_ln)\n",
        "\n",
        "# add lines for between 1 and 6 terms in the Taylor Series\n",
        "for i in range(1,9):  \n",
        "   \n",
        "    t_ln = [ln_approx_func(axe,i) for axe in axes]\n",
        "    ax.plot(axes,t_ln)\n",
        "\n",
        "ax.set_ylim([-7,4])\n",
        "\n",
        "# set up legend\n",
        "legend_lst = ['ln() function']\n",
        "for i in range(1,9):\n",
        "    legend_lst.append(f'Taylor Series - {i} terms')\n",
        "ax.legend(legend_lst, loc=4)\n",
        "\n",
        "plt.show()"
      ],
      "execution_count": 74,
      "outputs": [
        {
          "output_type": "display_data",
          "data": {
            "image/png": "[encoded data removed]",
            "text/plain": [
              "<Figure size 432x288 with 1 Axes>"
            ]
          },
          "metadata": {
            "tags": [],
            "needs_background": "light"
          }
        }
      ]
    }
  ]
}