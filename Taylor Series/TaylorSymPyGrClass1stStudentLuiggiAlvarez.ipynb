{
  "nbformat": 4,
  "nbformat_minor": 0,
  "metadata": {
    "colab": {
      "name": "TaylorSymPyGrClass1stStudentLuiggiAlvarez.ipynb",
      "provenance": []
    },
    "kernelspec": {
      "name": "python3",
      "display_name": "Python 3"
    }
  },
  "cells": [
    {
      "cell_type": "markdown",
      "metadata": {
        "id": "yQFf2Lj8bMoC"
      },
      "source": [
        "# Taylor SymPy"
      ]
    },
    {
      "cell_type": "markdown",
      "metadata": {
        "id": "6teUmvdaeuLP"
      },
      "source": [
        "#Taylor For $$e^x$$"
      ]
    },
    {
      "cell_type": "code",
      "metadata": {
        "colab": {
          "base_uri": "https://localhost:8080/"
        },
        "id": "MTUs5jyMZLEJ",
        "outputId": "26af1dc8-18ca-4098-931f-53b0c096f8db"
      },
      "source": [
        "import math\n",
        "\n",
        "x = 2\n",
        "e_to_2 = x**0/math.factorial(0) + x**1/math.factorial(1) + x**2/math.factorial(2) + x**3/math.factorial(3) + x**4/math.factorial(4)\n",
        "print(e_to_2)"
      ],
      "execution_count": 1,
      "outputs": [
        {
          "output_type": "stream",
          "text": [
            "7.0\n"
          ],
          "name": "stdout"
        }
      ]
    },
    {
      "cell_type": "code",
      "metadata": {
        "colab": {
          "base_uri": "https://localhost:8080/"
        },
        "id": "eor5Fk65bVc2",
        "outputId": "c8189dab-d456-424d-e287-5e58c1060112"
      },
      "source": [
        "print(math.exp(2))\n"
      ],
      "execution_count": 2,
      "outputs": [
        {
          "output_type": "stream",
          "text": [
            "7.38905609893065\n"
          ],
          "name": "stdout"
        }
      ]
    },
    {
      "cell_type": "code",
      "metadata": {
        "colab": {
          "base_uri": "https://localhost:8080/"
        },
        "id": "DhtT4KO8bscM",
        "outputId": "b9ba5c7d-ae6b-4b52-e5c8-5cc6c21eff91"
      },
      "source": [
        "\n",
        "import math\n",
        "\n",
        "x = 2\n",
        "e_to_2 = 0\n",
        "for i in range(10):\n",
        "    e_to_2 += x**i/math.factorial(i) \n",
        "print(e_to_2)"
      ],
      "execution_count": 3,
      "outputs": [
        {
          "output_type": "stream",
          "text": [
            "7.3887125220458545\n"
          ],
          "name": "stdout"
        }
      ]
    },
    {
      "cell_type": "markdown",
      "metadata": {
        "id": "FBh2qoCVeXoH"
      },
      "source": [
        "For the Taylor series for $f(x) = e^x$ about $c=0$ (Maclaurin) \n",
        "\n",
        "$$ E_n = \\frac{f^{(n+1)}(\\xi)}{(n+1)!}(x-c)^{(n+1)} = \\frac{e^\\xi}{(n+1)!}x^{(n+1)} \\le  \\frac{e^x}{(n+1)!}x^{(n+1)},\\text{ given that } $$\n",
        "\n",
        "\n",
        "If we want $E_n \\le \\epsilon$ then we need $n$ such that because $e^x \\ge e^\\xi$, for  $c=0 \\le \\xi \\le x$ \n",
        "\n",
        "\n",
        "$$ \\frac{e^x}{(n+1)!}x^{(n+1)} < \\epsilon$$ \n",
        "\n",
        "because $e^x \\ge e^\\xi$, for  $0 \\le \\xi \\le x$.\n"
      ]
    },
    {
      "cell_type": "code",
      "metadata": {
        "colab": {
          "base_uri": "https://localhost:8080/"
        },
        "id": "bK04AnS-czlP",
        "outputId": "8547315a-1dcd-4215-b77d-19ff9969d3c5"
      },
      "source": [
        "import math\n",
        "\n",
        "x = 10\n",
        "epsilon = 10**(-4)\n",
        "\n",
        "for k in range(1000):\n",
        "  if (  ( (math.exp(x) * x**(k+1)) / math.factorial(k+1) ) < epsilon):\n",
        "    break\n",
        "print(k)\n",
        "\n",
        "e_to_x = 0\n",
        "for i in range(k):\n",
        "    print(i,' ',e_to_x, ' delta ', x**i/math.factorial(i))\n",
        "    e_to_x += x**i/math.factorial(i) \n",
        "    \n",
        "print('math.exp(10) = ',math.exp(10))"
      ],
      "execution_count": 4,
      "outputs": [
        {
          "output_type": "stream",
          "text": [
            "40\n",
            "0   0  delta  1.0\n",
            "1   1.0  delta  10.0\n",
            "2   11.0  delta  50.0\n",
            "3   61.0  delta  166.66666666666666\n",
            "4   227.66666666666666  delta  416.6666666666667\n",
            "5   644.3333333333334  delta  833.3333333333334\n",
            "6   1477.6666666666667  delta  1388.888888888889\n",
            "7   2866.5555555555557  delta  1984.126984126984\n",
            "8   4850.68253968254  delta  2480.15873015873\n",
            "9   7330.84126984127  delta  2755.731922398589\n",
            "10   10086.573192239859  delta  2755.731922398589\n",
            "11   12842.305114638448  delta  2505.210838544172\n",
            "12   15347.51595318262  delta  2087.67569878681\n",
            "13   17435.191651969428  delta  1605.9043836821616\n",
            "14   19041.09603565159  delta  1147.0745597729724\n",
            "15   20188.170595424563  delta  764.7163731819817\n",
            "16   20952.886968606545  delta  477.9477332387385\n",
            "17   21430.834701845284  delta  281.14572543455205\n",
            "18   21711.980427279836  delta  156.19206968586226\n",
            "19   21868.172496965697  delta  82.2063524662433\n",
            "20   21950.37884943194  delta  41.10317623312165\n",
            "21   21991.482025665064  delta  19.572941063391262\n",
            "22   22011.054966728454  delta  8.896791392450574\n",
            "23   22019.951758120904  delta  3.868170170630684\n",
            "24   22023.819928291534  delta  1.6117375710961184\n",
            "25   22025.43166586263  delta  0.6446950284384474\n",
            "26   22026.076360891067  delta  0.24795962632247975\n",
            "27   22026.32432051739  delta  0.09183689863795547\n",
            "28   22026.416157416028  delta  0.03279889237069838\n",
            "29   22026.4489563084  delta  0.011309962886447717\n",
            "30   22026.460266271286  delta  0.003769987628815906\n",
            "31   22026.464036258916  delta  0.001216125041553518\n",
            "32   22026.465252383958  delta  0.00038003907548547436\n",
            "33   22026.465632423035  delta  0.0001151633562077195\n",
            "34   22026.46574758639  delta  3.3871575355211616e-05\n",
            "35   22026.465781457966  delta  9.677592958631891e-06\n",
            "36   22026.465791135557  delta  2.6882202662866364e-06\n",
            "37   22026.465793823776  delta  7.265460179153071e-07\n",
            "38   22026.46579455032  delta  1.9119632050402818e-07\n",
            "39   22026.465794741518  delta  4.9024697565135436e-08\n",
            "math.exp(10) =  22026.465794806718\n"
          ],
          "name": "stdout"
        }
      ]
    },
    {
      "cell_type": "markdown",
      "metadata": {
        "id": "g66HUvDJelsb"
      },
      "source": [
        "$$ \\frac{e^x}{(n+1)!}x^{(n+1)} < \\frac{3^x}{(n+1)!}x^{(n+1)} < \\epsilon$$ \n"
      ]
    },
    {
      "cell_type": "code",
      "metadata": {
        "colab": {
          "base_uri": "https://localhost:8080/"
        },
        "id": "sRDmLYaWemXy",
        "outputId": "e80c7fd6-c567-4d37-8827-6dbadc0b82d3"
      },
      "source": [
        "import math\n",
        "\n",
        "x = 10\n",
        "epsilon = 10**(-16)\n",
        "\n",
        "for k in range(1000):\n",
        "  if (  ( (3**x * x**(k+1)) / math.factorial(k+1) ) < epsilon):\n",
        "    break\n",
        "print(k)\n",
        "\n",
        "e_to_x = 0\n",
        "for i in range(k+1):\n",
        "    print(i,' ',e_to_x, ' delta ', x**i/math.factorial(i))\n",
        "    e_to_x += x**i/math.factorial(i) \n",
        "    \n",
        "print('math.exp(10) = ',math.exp(10))"
      ],
      "execution_count": 5,
      "outputs": [
        {
          "output_type": "stream",
          "text": [
            "58\n",
            "0   0  delta  1.0\n",
            "1   1.0  delta  10.0\n",
            "2   11.0  delta  50.0\n",
            "3   61.0  delta  166.66666666666666\n",
            "4   227.66666666666666  delta  416.6666666666667\n",
            "5   644.3333333333334  delta  833.3333333333334\n",
            "6   1477.6666666666667  delta  1388.888888888889\n",
            "7   2866.5555555555557  delta  1984.126984126984\n",
            "8   4850.68253968254  delta  2480.15873015873\n",
            "9   7330.84126984127  delta  2755.731922398589\n",
            "10   10086.573192239859  delta  2755.731922398589\n",
            "11   12842.305114638448  delta  2505.210838544172\n",
            "12   15347.51595318262  delta  2087.67569878681\n",
            "13   17435.191651969428  delta  1605.9043836821616\n",
            "14   19041.09603565159  delta  1147.0745597729724\n",
            "15   20188.170595424563  delta  764.7163731819817\n",
            "16   20952.886968606545  delta  477.9477332387385\n",
            "17   21430.834701845284  delta  281.14572543455205\n",
            "18   21711.980427279836  delta  156.19206968586226\n",
            "19   21868.172496965697  delta  82.2063524662433\n",
            "20   21950.37884943194  delta  41.10317623312165\n",
            "21   21991.482025665064  delta  19.572941063391262\n",
            "22   22011.054966728454  delta  8.896791392450574\n",
            "23   22019.951758120904  delta  3.868170170630684\n",
            "24   22023.819928291534  delta  1.6117375710961184\n",
            "25   22025.43166586263  delta  0.6446950284384474\n",
            "26   22026.076360891067  delta  0.24795962632247975\n",
            "27   22026.32432051739  delta  0.09183689863795547\n",
            "28   22026.416157416028  delta  0.03279889237069838\n",
            "29   22026.4489563084  delta  0.011309962886447717\n",
            "30   22026.460266271286  delta  0.003769987628815906\n",
            "31   22026.464036258916  delta  0.001216125041553518\n",
            "32   22026.465252383958  delta  0.00038003907548547436\n",
            "33   22026.465632423035  delta  0.0001151633562077195\n",
            "34   22026.46574758639  delta  3.3871575355211616e-05\n",
            "35   22026.465781457966  delta  9.677592958631891e-06\n",
            "36   22026.465791135557  delta  2.6882202662866364e-06\n",
            "37   22026.465793823776  delta  7.265460179153071e-07\n",
            "38   22026.46579455032  delta  1.9119632050402818e-07\n",
            "39   22026.465794741518  delta  4.9024697565135436e-08\n",
            "40   22026.465794790543  delta  1.2256174391283859e-08\n",
            "41   22026.4657948028  delta  2.9893108271424046e-09\n",
            "42   22026.46579480579  delta  7.11740673129144e-10\n",
            "43   22026.465794806503  delta  1.6552108677421953e-10\n",
            "44   22026.465794806667  delta  3.761842881232262e-11\n",
            "45   22026.465794806703  delta  8.359650847182803e-12\n",
            "46   22026.46579480671  delta  1.817315401561479e-12\n",
            "47   22026.46579480671  delta  3.866628513960594e-13\n",
            "48   22026.46579480671  delta  8.055476070751238e-14\n",
            "49   22026.46579480671  delta  1.643974708316579e-14\n",
            "50   22026.46579480671  delta  3.287949416633158e-15\n",
            "51   22026.46579480671  delta  6.446959640457173e-16\n",
            "52   22026.46579480671  delta  1.2397999308571487e-16\n",
            "53   22026.46579480671  delta  2.3392451525606577e-17\n",
            "54   22026.46579480671  delta  4.331935467704922e-18\n",
            "55   22026.46579480671  delta  7.876246304918039e-19\n",
            "56   22026.46579480671  delta  1.4064725544496499e-19\n",
            "57   22026.46579480671  delta  2.4674957095607893e-20\n",
            "58   22026.46579480671  delta  4.2543029475186024e-21\n",
            "math.exp(10) =  22026.465794806718\n"
          ],
          "name": "stdout"
        }
      ]
    },
    {
      "cell_type": "code",
      "metadata": {
        "colab": {
          "base_uri": "https://localhost:8080/"
        },
        "id": "4FlnJQgLczsf",
        "outputId": "adf2b4d0-a791-4260-eeaa-10a1214bd6ee"
      },
      "source": [
        "import math\n",
        "\n",
        "x = 10\n",
        "epsilon = 10**(-4)\n",
        "delta = 1\n",
        "e_to_x = 0\n",
        "i = 0\n",
        "while  epsilon <= delta:\n",
        "  delta = x**i/math.factorial(i) \n",
        "  e_to_x += delta\n",
        "  i = i+1\n",
        "print(i-1) \n",
        "print('e_to_x = ',e_to_x)    \n",
        "print('math.exp(10) = ',math.exp(10))"
      ],
      "execution_count": 6,
      "outputs": [
        {
          "output_type": "stream",
          "text": [
            "34\n",
            "e_to_x =  22026.465781457966\n",
            "math.exp(10) =  22026.465794806718\n"
          ],
          "name": "stdout"
        }
      ]
    },
    {
      "cell_type": "markdown",
      "metadata": {
        "id": "RnILGvtUiBzT"
      },
      "source": [
        "# Taylor for $$Sin(x)$$"
      ]
    },
    {
      "cell_type": "code",
      "metadata": {
        "colab": {
          "base_uri": "https://localhost:8080/"
        },
        "id": "dKm3VFUCczvd",
        "outputId": "e79c08a8-de8d-4b86-d75e-508f68c14c52"
      },
      "source": [
        "\n",
        "x = math.radians(90)\n",
        "sin_pi_2 = x- x**3/math.factorial(3) + x**5/math.factorial(5) + x**7/math.factorial(7) + x**9/math.factorial(9) + x**11/math.factorial(11)\n",
        "print(sin_pi_2)"
      ],
      "execution_count": 7,
      "outputs": [
        {
          "output_type": "stream",
          "text": [
            "1.0093706496981587\n"
          ],
          "name": "stdout"
        }
      ]
    },
    {
      "cell_type": "code",
      "metadata": {
        "colab": {
          "base_uri": "https://localhost:8080/"
        },
        "id": "wz2WnkuNlroC",
        "outputId": "7938e5df-c478-4118-f8e2-98fd35bac18b"
      },
      "source": [
        "print(math.sin(math.radians(90)))"
      ],
      "execution_count": 8,
      "outputs": [
        {
          "output_type": "stream",
          "text": [
            "1.0\n"
          ],
          "name": "stdout"
        }
      ]
    },
    {
      "cell_type": "code",
      "metadata": {
        "colab": {
          "base_uri": "https://localhost:8080/"
        },
        "id": "aby10byqczy1",
        "outputId": "172ee17b-6421-48ec-cd2e-c6d134ca1e55"
      },
      "source": [
        "x = math.radians(90)\n",
        "sin_approx = 0\n",
        "for i in range(10):\n",
        "        sin_approx+=((-1)**i)*(x**((2*i)+1)/math.factorial((2*i)+1))\n",
        "print(sin_approx)"
      ],
      "execution_count": 9,
      "outputs": [
        {
          "output_type": "stream",
          "text": [
            "1.0\n"
          ],
          "name": "stdout"
        }
      ]
    },
    {
      "cell_type": "markdown",
      "metadata": {
        "id": "4im0CphJrXnR"
      },
      "source": [
        "For the Taylor series for $f(x) = sin(x)$ about $c=0$ (Maclaurin) \n",
        "\n",
        "$$ E_n = \\frac{f^{(n+1)}(\\xi)}{(n+1)!}(x-c)^{(n+1)} = \\frac{sin(\\xi)}{(n+1)!}x^{(n+1)} \\le  \\frac{sin(x)}{(n+1)!}x^{(n+1)},\\text{ given that } $$\n",
        "\n",
        "\n",
        "If we want $E_n \\le \\epsilon$ then we need $n$ such that because $sin(x) \\ge sin(\\xi)$, for  $c=0 \\le \\xi \\le x$ \n",
        "\n",
        "\n",
        "$$ \\frac{sin(x)}{(n+1)!}x^{(n+1)} < \\epsilon$$ \n",
        "\n",
        "because $sin(x) \\ge sin(\\xi)$, for  $0 \\le \\xi \\le x$."
      ]
    },
    {
      "cell_type": "code",
      "metadata": {
        "colab": {
          "base_uri": "https://localhost:8080/"
        },
        "id": "AmywNeN1mUGJ",
        "outputId": "247735cb-886e-4137-f21f-95c7412a8195"
      },
      "source": [
        "import math\n",
        "\n",
        "x = math.radians(90)\n",
        "epsilon = 10**(-4)\n",
        "\n",
        "for k in range(1000):\n",
        "  if (  ( (math.sin(x) * x**(k+1)) / math.factorial(k+1) ) < epsilon):\n",
        "    break\n",
        "print(k)\n",
        "\n",
        "sin_x = 0\n",
        "for i in range(k):\n",
        "    print(i,' ',sin_x, ' delta ',((-1)**i)*(x**((2*i)+1)/math.factorial((2*i)+1)))\n",
        "    sin_x += ((-1)**i)*x**(2*i+1)/math.factorial(2*i+1) \n",
        "    \n",
        "print('math.sin(90°) = ',math.sin(math.radians(90)))"
      ],
      "execution_count": 10,
      "outputs": [
        {
          "output_type": "stream",
          "text": [
            "9\n",
            "0   0  delta  1.5707963267948966\n",
            "1   1.5707963267948966  delta  -0.6459640975062462\n",
            "2   0.9248322292886504  delta  0.07969262624616703\n",
            "3   1.0045248555348174  delta  -0.004681754135318687\n",
            "4   0.9998431013994987  delta  0.00016044118478735975\n",
            "5   1.0000035425842861  delta  -3.598843235212084e-06\n",
            "6   0.999999943741051  delta  5.692172921967924e-08\n",
            "7   1.0000000006627803  delta  -6.688035109811464e-10\n",
            "8   0.9999999999939768  delta  6.066935731106192e-12\n",
            "math.sin(90°) =  1.0\n"
          ],
          "name": "stdout"
        }
      ]
    },
    {
      "cell_type": "markdown",
      "metadata": {
        "id": "3Pd2mM46EUfn"
      },
      "source": [
        "$$ \\frac{sin(x)}{(n+1)!}x^{(n+1)} < \\frac{x}{(n+1)!}x^{(n+1)} < \\epsilon$$ \n"
      ]
    },
    {
      "cell_type": "code",
      "metadata": {
        "colab": {
          "base_uri": "https://localhost:8080/"
        },
        "id": "KwKgSR3BEUPg",
        "outputId": "7ff944fd-bc46-49b4-fac6-32d0f90dc077"
      },
      "source": [
        "import math\n",
        "\n",
        "x = math.radians(90)\n",
        "epsilon = 10**(-16)\n",
        "\n",
        "for k in range(1000):\n",
        "  if (  ( (x * x**(k+1)) / math.factorial(k+1) ) < epsilon):\n",
        "    break\n",
        "print(k)\n",
        "\n",
        "sin_x = 0\n",
        "for i in range(k+1): \n",
        "    print(i,' ',sin_x, ' delta ',((-1)**i)*(x**((2*i)+1)/math.factorial((2*i)+1) ))\n",
        "    sin_x += ((-1)**i)*(x**((2*i)+1)/math.factorial((2*i)+1) )\n",
        "    \n",
        "print('math.sin(90°) = ',math.sin(math.radians(90)))"
      ],
      "execution_count": 11,
      "outputs": [
        {
          "output_type": "stream",
          "text": [
            "21\n",
            "0   0  delta  1.5707963267948966\n",
            "1   1.5707963267948966  delta  -0.6459640975062462\n",
            "2   0.9248322292886504  delta  0.07969262624616703\n",
            "3   1.0045248555348174  delta  -0.004681754135318687\n",
            "4   0.9998431013994987  delta  0.00016044118478735975\n",
            "5   1.0000035425842861  delta  -3.598843235212084e-06\n",
            "6   0.999999943741051  delta  5.692172921967924e-08\n",
            "7   1.0000000006627803  delta  -6.688035109811464e-10\n",
            "8   0.9999999999939768  delta  6.066935731106192e-12\n",
            "9   1.0000000000000437  delta  -4.377065467313739e-14\n",
            "10   1.0  delta  2.571422892860472e-16\n",
            "11   1.0000000000000002  delta  -1.2538995405354564e-18\n",
            "12   1.0000000000000002  delta  5.156455176580277e-21\n",
            "13   1.0000000000000002  delta  -1.8123993128488855e-23\n",
            "14   1.0000000000000002  delta  5.507285786522379e-26\n",
            "15   1.0000000000000002  delta  -1.4611487106644664e-28\n",
            "16   1.0000000000000002  delta  3.4140529700331576e-31\n",
            "17   1.0000000000000002  delta  -7.078855508107446e-34\n",
            "18   1.0000000000000002  delta  1.3112894796826742e-36\n",
            "19   1.0000000000000002  delta  -2.1831829318114536e-39\n",
            "20   1.0000000000000002  delta  3.2846268097849834e-42\n",
            "21   1.0000000000000002  delta  -4.4875369902810034e-45\n",
            "math.sin(90°) =  1.0\n"
          ],
          "name": "stdout"
        }
      ]
    },
    {
      "cell_type": "code",
      "metadata": {
        "colab": {
          "base_uri": "https://localhost:8080/"
        },
        "id": "Ec4HIh5aE78T",
        "outputId": "8c8ecca8-cbf0-4870-a95e-2b739f8fe5a1"
      },
      "source": [
        "import math\n",
        "\n",
        "x = math.radians(90)\n",
        "epsilon = 10**(-4)\n",
        "delta = 1\n",
        "sin_x = 0\n",
        "i = 0\n",
        "while  (epsilon <= delta or -epsilon >= delta):\n",
        "  delta = ((-1)**i)*(x**((2*i)+1)/math.factorial((2*i)+1))\n",
        "  sin_x += delta\n",
        "  \n",
        "  if(delta<0):\n",
        "    delta=delta*-1   \n",
        "  i = i+1\n",
        "print(i-1) \n",
        "print('sin_x = ',sin_x)    \n",
        "print('math.sin(90°) = ',math.sin(math.radians(90)))"
      ],
      "execution_count": 12,
      "outputs": [
        {
          "output_type": "stream",
          "text": [
            "5\n",
            "sin_x =  0.999999943741051\n",
            "math.sin(90°) =  1.0\n"
          ],
          "name": "stdout"
        }
      ]
    },
    {
      "cell_type": "markdown",
      "metadata": {
        "id": "T07NmiqUUBq-"
      },
      "source": [
        "#Taylor Series for $$ cos(x) $$"
      ]
    },
    {
      "cell_type": "code",
      "metadata": {
        "colab": {
          "base_uri": "https://localhost:8080/"
        },
        "id": "m3kCwJqXK9Vj",
        "outputId": "28b35fdf-d9d2-4eb8-a1ff-961c5273f337"
      },
      "source": [
        "x = math.radians(45)\n",
        "cos_pi_2 = 1- x**2/math.factorial(2) + x**4/math.factorial(4) + x**6/math.factorial(6) + x**8/math.factorial(8) + x**10/math.factorial(10)\n",
        "print(cos_pi_2)"
      ],
      "execution_count": 13,
      "outputs": [
        {
          "output_type": "stream",
          "text": [
            "0.7077588140685185\n"
          ],
          "name": "stdout"
        }
      ]
    },
    {
      "cell_type": "code",
      "metadata": {
        "colab": {
          "base_uri": "https://localhost:8080/"
        },
        "id": "tpAPMasNUZmF",
        "outputId": "83467c6b-51ce-407e-9517-b4f2c6e247f7"
      },
      "source": [
        "print(math.cos(math.radians(45)))"
      ],
      "execution_count": 14,
      "outputs": [
        {
          "output_type": "stream",
          "text": [
            "0.7071067811865476\n"
          ],
          "name": "stdout"
        }
      ]
    },
    {
      "cell_type": "code",
      "metadata": {
        "colab": {
          "base_uri": "https://localhost:8080/"
        },
        "id": "VL_3VhGNUkCp",
        "outputId": "73107a13-045c-4b44-891d-ae4c83c65338"
      },
      "source": [
        "\n",
        "import math\n",
        "\n",
        "x = math.radians(45)\n",
        "cos_45 = 0\n",
        "for i in range(10):\n",
        "    cos_45 += ((-1)**i)*x**(2*i)/math.factorial(2*i) \n",
        "print(cos_45)"
      ],
      "execution_count": 15,
      "outputs": [
        {
          "output_type": "stream",
          "text": [
            "0.7071067811865475\n"
          ],
          "name": "stdout"
        }
      ]
    },
    {
      "cell_type": "markdown",
      "metadata": {
        "id": "C_v1YRQaU-4u"
      },
      "source": [
        "For the Taylor series for $f(x) = cos(x)$ about $c=0$ (Maclaurin) \n",
        "\n",
        "$$ E_n = \\frac{f^{(n+1)}(\\xi)}{(n+1)!}(x-c)^{(n+1)} = \\frac{cos(\\xi)}{(n+1)!}x^{(n+1)} \\le  \\frac{cos(x)}{(n+1)!}x^{(n+1)},\\text{ given that } $$\n",
        "\n",
        "\n",
        "If we want $E_n \\le \\epsilon$ then we need $n$ such that because $cos(x) \\ge sin(\\xi)$, for  $c=0 \\le \\xi \\le x$ \n",
        "\n",
        "\n",
        "$$ \\frac{cos(x)}{(n+1)!}x^{(n+1)} < \\epsilon$$ \n",
        "\n",
        "because $cos(x)\\ge cos(\\xi)$, for  $0 \\le \\xi \\le x$."
      ]
    },
    {
      "cell_type": "code",
      "metadata": {
        "colab": {
          "base_uri": "https://localhost:8080/"
        },
        "id": "2gOiuqXOU72V",
        "outputId": "1ed4ef09-4513-419a-d057-e3c994bb286d"
      },
      "source": [
        "import math\n",
        "\n",
        "x = math.radians(45)\n",
        "epsilon = 10**(-4)\n",
        "\n",
        "for k in range(1000):\n",
        "  if (  ( (math.cos(x) * x**(k+1)) / math.factorial(k+1) ) < epsilon):\n",
        "    break\n",
        "print(k)\n",
        "\n",
        "cos_x = 0\n",
        "for i in range(k):\n",
        "    print(i,' ',cos_x, ' delta ',((-1)**i)*(x**(2*i)/math.factorial(2*i)))\n",
        "    cos_x += ((-1)**i)*x**(2*i)/math.factorial(2*i) \n",
        "   \n",
        "    \n",
        "print('math.cos(45°) = ',math.cos(math.radians(45)))"
      ],
      "execution_count": 16,
      "outputs": [
        {
          "output_type": "stream",
          "text": [
            "6\n",
            "0   0  delta  1.0\n",
            "1   1.0  delta  -0.30842513753404244\n",
            "2   0.6915748624659576  delta  0.0158543442438155\n",
            "3   0.707429206709773  delta  -0.00032599188692738996\n",
            "4   0.7071032148228457  delta  3.590860448591509e-06\n",
            "5   0.7071068056832942  delta  -2.461136950494199e-08\n",
            "math.cos(45°) =  0.7071067811865476\n"
          ],
          "name": "stdout"
        }
      ]
    },
    {
      "cell_type": "markdown",
      "metadata": {
        "id": "DT1dytr5f9w5"
      },
      "source": [
        "$$ \\frac{cos(x)}{(n+1)!}x^{(n+1)} < \\frac{x}{(n+1)!}x^{(n+1)} < \\epsilon$$ \n"
      ]
    },
    {
      "cell_type": "code",
      "metadata": {
        "colab": {
          "base_uri": "https://localhost:8080/"
        },
        "id": "Ca_UM5uygC3H",
        "outputId": "277cae5c-da8f-4fca-efbb-5d3af42222f9"
      },
      "source": [
        "import math\n",
        "\n",
        "x = math.radians(45)\n",
        "epsilon = 10**(-16)\n",
        "\n",
        "for k in range(1000):\n",
        "  if (  ( (x * x**(k+1)) / math.factorial(k+1) ) < epsilon):\n",
        "    break\n",
        "print(k)\n",
        "\n",
        "sin_x = 0\n",
        "for i in range(k+1): \n",
        "    print(i,' ',sin_x, ' delta ',((-1)**i)*(x**(2*i)/math.factorial(2*i)))\n",
        "    sin_x += ((-1)**i)*(x**(2*i)/math.factorial(2*i) )\n",
        "    \n",
        "print('math.sin(90°) = ',math.cos(math.radians(45)))"
      ],
      "execution_count": 17,
      "outputs": [
        {
          "output_type": "stream",
          "text": [
            "16\n",
            "0   0  delta  1.0\n",
            "1   1.0  delta  -0.30842513753404244\n",
            "2   0.6915748624659576  delta  0.0158543442438155\n",
            "3   0.707429206709773  delta  -0.00032599188692738996\n",
            "4   0.7071032148228457  delta  3.590860448591509e-06\n",
            "5   0.7071068056832942  delta  -2.461136950494199e-08\n",
            "6   0.7071067810719247  delta  1.1501159127974046e-10\n",
            "7   0.7071067811869363  delta  -3.8980731712596733e-13\n",
            "8   0.7071067811865465  delta  1.0018864616362713e-15\n",
            "9   0.7071067811865475  delta  -2.0196533968866804e-18\n",
            "10   0.7071067811865475  delta  3.2784835616098446e-21\n",
            "11   0.7071067811865475  delta  -4.377345209491833e-24\n",
            "12   0.7071067811865475  delta  4.891606153157611e-27\n",
            "13   0.7071067811865475  delta  -4.6421363093846285e-30\n",
            "14   0.7071067811865475  delta  3.787702459454302e-33\n",
            "15   0.7071067811865475  delta  -2.685569314931549e-36\n",
            "16   0.7071067811865475  delta  1.6699538010382406e-39\n",
            "math.sin(90°) =  0.7071067811865476\n"
          ],
          "name": "stdout"
        }
      ]
    },
    {
      "cell_type": "code",
      "metadata": {
        "colab": {
          "base_uri": "https://localhost:8080/"
        },
        "id": "UFQ4nLFJhB9P",
        "outputId": "96e428a6-344a-48df-c4fd-63201c66bf20"
      },
      "source": [
        "import math\n",
        "\n",
        "x = math.radians(45)\n",
        "epsilon = 10**(-4)\n",
        "delta = 1\n",
        "cos_x = 0\n",
        "i = 0\n",
        "while  (epsilon <= delta or -epsilon >= delta):\n",
        "  delta = ((-1)**i)*(x**(2*i)/math.factorial(2*i))\n",
        "  cos_x += delta  \n",
        "  \n",
        "  if(delta<0):\n",
        "    delta=delta*-1 \n",
        "  i = i+1\n",
        "print(i-1) \n",
        "print('cos_x = ',cos_x)    \n",
        "print('math.cos(45°) = ',math.cos(math.radians(45)))"
      ],
      "execution_count": 18,
      "outputs": [
        {
          "output_type": "stream",
          "text": [
            "4\n",
            "cos_x =  0.7071068056832942\n",
            "math.cos(45°) =  0.7071067811865476\n"
          ],
          "name": "stdout"
        }
      ]
    },
    {
      "cell_type": "markdown",
      "metadata": {
        "id": "coBvYM_niWG4"
      },
      "source": [
        "#Taylor Series For$$ \\frac{1}{1-x}$$\n",
        "\n",
        "\n"
      ]
    },
    {
      "cell_type": "code",
      "metadata": {
        "colab": {
          "base_uri": "https://localhost:8080/"
        },
        "id": "p4196EKyij11",
        "outputId": "6d22f9f8-fdf4-495d-85dd-88714fbad9a9"
      },
      "source": [
        "x = 0.5\n",
        "uno_x = x**0+ x**1 + x**2 + x**3 + x**4 + x**5\n",
        "print(uno_x)"
      ],
      "execution_count": 19,
      "outputs": [
        {
          "output_type": "stream",
          "text": [
            "1.96875\n"
          ],
          "name": "stdout"
        }
      ]
    },
    {
      "cell_type": "code",
      "metadata": {
        "colab": {
          "base_uri": "https://localhost:8080/"
        },
        "id": "ngli-8Lwitl0",
        "outputId": "9adae427-929a-4f42-8bdc-beddd58ac981"
      },
      "source": [
        "print(1/(1-(0.5)))"
      ],
      "execution_count": 20,
      "outputs": [
        {
          "output_type": "stream",
          "text": [
            "2.0\n"
          ],
          "name": "stdout"
        }
      ]
    },
    {
      "cell_type": "code",
      "metadata": {
        "colab": {
          "base_uri": "https://localhost:8080/"
        },
        "id": "NTplXRjYlIkU",
        "outputId": "0db5ae87-578f-498b-e0c0-ba3fa4687299"
      },
      "source": [
        "\n",
        "import math\n",
        "\n",
        "x = math.radians(45)\n",
        "f_1_x = 0\n",
        "for i in range(10):\n",
        "    f_1_x += x**i\n",
        "  \n",
        "print(f_1_x)"
      ],
      "execution_count": 21,
      "outputs": [
        {
          "output_type": "stream",
          "text": [
            "4.243627532541061\n"
          ],
          "name": "stdout"
        }
      ]
    },
    {
      "cell_type": "markdown",
      "metadata": {
        "id": "81PKAqailp8-"
      },
      "source": [
        "For the Taylor series for $f(x) =\\frac{1}{1-x}$ about $c=0$ (Maclaurin) \n",
        "\n",
        "$$ E_n = \\frac{f^{(n+1)}(\\xi)}{(n+1)!}(x-c)^{(n+1)} = \\frac{\\frac{1}{1-\\xi}}{(n+1)!}x^{(n+1)} \\le  \\frac{\\frac{1}{1-x}}{(n+1)!}x^{(n+1)},\\text{ given that } $$\n",
        "\n",
        "\n",
        "If we want $E_n \\le \\epsilon$ then we need $n$ such that because $\\frac{1}{1-x} \\ge \\frac{1}{1-\\xi}$, for  $c=0 \\le \\xi \\le x$ \n",
        "\n",
        "\n",
        "$$ \\frac{\\frac{1}{1-x}}{(n+1)!}x^{(n+1)} < \\epsilon$$ "
      ]
    },
    {
      "cell_type": "code",
      "metadata": {
        "colab": {
          "base_uri": "https://localhost:8080/"
        },
        "id": "5kEYa1ccmoqj",
        "outputId": "32ba8758-75dd-4f78-ad2e-85f678210651"
      },
      "source": [
        "import math\n",
        "\n",
        "x = 0.5\n",
        "epsilon = 10**(-4)\n",
        "\n",
        "for k in range(1000):\n",
        "  if (  ( ((1/(1-x)) * x**(k+1)) / math.factorial(k+1) ) < epsilon):\n",
        "    break\n",
        "print(k)\n",
        "\n",
        "f_x = 0\n",
        "for i in range(k+1):\n",
        "    print(i,' ',f_x, ' delta ',x**i)\n",
        "    f_x += x**i\n",
        "   \n",
        "    \n",
        "print('f(0.5) = ',1/(1-0.5))"
      ],
      "execution_count": 22,
      "outputs": [
        {
          "output_type": "stream",
          "text": [
            "5\n",
            "0   0  delta  1.0\n",
            "1   1.0  delta  0.5\n",
            "2   1.5  delta  0.25\n",
            "3   1.75  delta  0.125\n",
            "4   1.875  delta  0.0625\n",
            "5   1.9375  delta  0.03125\n",
            "f(0.5) =  2.0\n"
          ],
          "name": "stdout"
        }
      ]
    },
    {
      "cell_type": "markdown",
      "metadata": {
        "id": "nxxkcTU2o-9-"
      },
      "source": [
        "$$ \\frac{\\frac{1}{1-x}}{(n+1)!}x^{(n+1)} < \\frac{x}{(n+1)!}x^{(n+1)} < \\epsilon$$ "
      ]
    },
    {
      "cell_type": "code",
      "metadata": {
        "colab": {
          "base_uri": "https://localhost:8080/"
        },
        "id": "I_jwG1e4o3gE",
        "outputId": "57e3defc-be64-4d02-eab3-0ed913928a94"
      },
      "source": [
        "import math\n",
        "\n",
        "x = 0.5\n",
        "epsilon = 10**(-16)\n",
        "\n",
        "for k in range(1000):\n",
        " \n",
        "  if (  ( (x * x**(k+1)) / math.factorial(k+1) ) < epsilon):\n",
        "    \n",
        "    break\n",
        "print(k)\n",
        "\n",
        "f_x = 0\n",
        "for i in range(k+1): \n",
        "    print(i,' ',f_x, ' delta ',(x**i))\n",
        "    f_x += (x**i )\n",
        "    \n",
        "print('f(0.5)= ',1/1-0.5)"
      ],
      "execution_count": 23,
      "outputs": [
        {
          "output_type": "stream",
          "text": [
            "14\n",
            "0   0  delta  1.0\n",
            "1   1.0  delta  0.5\n",
            "2   1.5  delta  0.25\n",
            "3   1.75  delta  0.125\n",
            "4   1.875  delta  0.0625\n",
            "5   1.9375  delta  0.03125\n",
            "6   1.96875  delta  0.015625\n",
            "7   1.984375  delta  0.0078125\n",
            "8   1.9921875  delta  0.00390625\n",
            "9   1.99609375  delta  0.001953125\n",
            "10   1.998046875  delta  0.0009765625\n",
            "11   1.9990234375  delta  0.00048828125\n",
            "12   1.99951171875  delta  0.000244140625\n",
            "13   1.999755859375  delta  0.0001220703125\n",
            "14   1.9998779296875  delta  6.103515625e-05\n",
            "f(0.5)=  0.5\n"
          ],
          "name": "stdout"
        }
      ]
    },
    {
      "cell_type": "code",
      "metadata": {
        "colab": {
          "base_uri": "https://localhost:8080/"
        },
        "id": "Ga4YR-0u671t",
        "outputId": "79debd32-dc58-40a5-d1c0-bc9b05161a08"
      },
      "source": [
        "import math\n",
        "\n",
        "x = 0.5\n",
        "epsilon = 10**(-4)\n",
        "delta = 1\n",
        "f_x = 0\n",
        "i = 0\n",
        "while  (epsilon <= delta ):\n",
        "  delta = x**i\n",
        "  f_x += delta  \n",
        "  \n",
        "  if(delta<0):\n",
        "    delta=delta*-1 \n",
        "  i = i+1\n",
        "print(i-1) \n",
        "print('f_x = ',f_x)    \n",
        "print('f(x) = ',1/(1-x))"
      ],
      "execution_count": 24,
      "outputs": [
        {
          "output_type": "stream",
          "text": [
            "14\n",
            "f_x =  1.99993896484375\n",
            "f(x) =  2.0\n"
          ],
          "name": "stdout"
        }
      ]
    },
    {
      "cell_type": "markdown",
      "metadata": {
        "id": "jvBHAeBnH6X8"
      },
      "source": [
        "#Taylor Series $$ ln(x+1)$$"
      ]
    },
    {
      "cell_type": "code",
      "metadata": {
        "colab": {
          "base_uri": "https://localhost:8080/"
        },
        "id": "NpKl0meKH_Vh",
        "outputId": "de7b1ef3-9411-4551-f794-13d2a6084ce4"
      },
      "source": [
        "x = 0.5\n",
        "uno_x = x - x**2/2 + x**3/3 - x**4/4 + x**5/5 \n",
        "print(uno_x)"
      ],
      "execution_count": 25,
      "outputs": [
        {
          "output_type": "stream",
          "text": [
            "0.40729166666666666\n"
          ],
          "name": "stdout"
        }
      ]
    },
    {
      "cell_type": "code",
      "metadata": {
        "colab": {
          "base_uri": "https://localhost:8080/"
        },
        "id": "7-mYVKiRIjj5",
        "outputId": "dc867669-5c03-4992-8482-5a11d03021b6"
      },
      "source": [
        "print(math.log(1+0.5))"
      ],
      "execution_count": 26,
      "outputs": [
        {
          "output_type": "stream",
          "text": [
            "0.4054651081081644\n"
          ],
          "name": "stdout"
        }
      ]
    },
    {
      "cell_type": "markdown",
      "metadata": {
        "id": "QGWZWPYBI4DF"
      },
      "source": [
        "For the Taylor series for $f(x) =ln(x)$ about $c=0$ (Maclaurin) \n",
        "\n",
        "$$ E_n = \\frac{f^{(n+1)}(\\xi)}{(n+1)!}(x-c)^{(n+1)} = \\frac{ln(\\xi)}{(n+1)!}x^{(n+1)} \\le  \\frac{ln(x+1)}{(n+1)!}x^{(n+1)},\\text{ given that } $$\n",
        "\n",
        "\n",
        "If we want $E_n \\le \\epsilon$ then we need $n$ such that because $ln(x+1) \\ge \n",
        "ln(\\xi)$, for  $c=0 \\le \\xi \\le x$ \n",
        "\n",
        "\n",
        "$$ \\frac{ln(x+1)}{(n+1)!}x^{(n+1)} < \\epsilon$$ "
      ]
    },
    {
      "cell_type": "code",
      "metadata": {
        "colab": {
          "base_uri": "https://localhost:8080/"
        },
        "id": "iC_FvHmJI0jT",
        "outputId": "9f491228-c015-4435-904d-a7d56001ac79"
      },
      "source": [
        "import math\n",
        "\n",
        "x = 0.5\n",
        "epsilon = 10**(-4)\n",
        "\n",
        "for k in range(1000):\n",
        "  if ((math.log(1+x) * x**(k+1)) / math.factorial(k+1)  < epsilon):\n",
        "    break\n",
        "print(k)\n",
        "\n",
        "f_x = 0\n",
        "for i in range(k+1):\n",
        "    i+=1\n",
        "    print(i,' ',f_x, ' delta ',((-1)**(i-1))*(x**i)/i)\n",
        "    f_x += ((-1)**(i-1))*x**i/i\n",
        "   \n",
        "    \n",
        "print('ln(1+0.5) = ',math.log(1+0.5))"
      ],
      "execution_count": 27,
      "outputs": [
        {
          "output_type": "stream",
          "text": [
            "5\n",
            "1   0  delta  0.5\n",
            "2   0.5  delta  -0.125\n",
            "3   0.375  delta  0.041666666666666664\n",
            "4   0.4166666666666667  delta  -0.015625\n",
            "5   0.4010416666666667  delta  0.00625\n",
            "6   0.40729166666666666  delta  -0.0026041666666666665\n",
            "ln(1+0.5) =  0.4054651081081644\n"
          ],
          "name": "stdout"
        }
      ]
    },
    {
      "cell_type": "markdown",
      "metadata": {
        "id": "uuLuNa-wMKTN"
      },
      "source": [
        "$$ \\frac{ln(1+x)}{(n+1)!}x^{(n+1)} < \\frac{x}{(n+1)!}x^{(n+1)} < \\epsilon$$ "
      ]
    },
    {
      "cell_type": "code",
      "metadata": {
        "colab": {
          "base_uri": "https://localhost:8080/"
        },
        "id": "bw2ylZpPLinG",
        "outputId": "6a3239d1-c14c-45fb-8ea0-38d275a2fe56"
      },
      "source": [
        "import math\n",
        "\n",
        "x = 0.5\n",
        "epsilon = 10**(-16)\n",
        "\n",
        "for k in range(1000):\n",
        " \n",
        "  if (  ( (x * x**(k+1)) / math.factorial(k+1) ) < epsilon):\n",
        "    \n",
        "    break\n",
        "print(k)\n",
        "\n",
        "f_x = 0\n",
        "for i in range(k+1): \n",
        "    i+=1\n",
        "    delta=((-1)**(i-1))*(x**i)/i\n",
        "    if(delta<0):\n",
        "     delta=delta*-1 \n",
        "    print(i-1,' ',f_x, ' delta ',delta)\n",
        "    f_x += ((-1)**(i-1))*x**i/i\n",
        "    \n",
        "    \n",
        "print('ln(1+0.5) = ',math.log(1+0.5))"
      ],
      "execution_count": 28,
      "outputs": [
        {
          "output_type": "stream",
          "text": [
            "14\n",
            "0   0  delta  0.5\n",
            "1   0.5  delta  0.125\n",
            "2   0.375  delta  0.041666666666666664\n",
            "3   0.4166666666666667  delta  0.015625\n",
            "4   0.4010416666666667  delta  0.00625\n",
            "5   0.40729166666666666  delta  0.0026041666666666665\n",
            "6   0.4046875  delta  0.0011160714285714285\n",
            "7   0.40580357142857143  delta  0.00048828125\n",
            "8   0.40531529017857143  delta  0.00021701388888888888\n",
            "9   0.4055323040674603  delta  9.765625e-05\n",
            "10   0.4054346478174603  delta  4.438920454545455e-05\n",
            "11   0.4054790370220058  delta  2.0345052083333332e-05\n",
            "12   0.40545869196992246  delta  9.390024038461539e-06\n",
            "13   0.4054680819939609  delta  4.359654017857143e-06\n",
            "14   0.40546372233994304  delta  2.0345052083333333e-06\n",
            "ln(1+0.5) =  0.4054651081081644\n"
          ],
          "name": "stdout"
        }
      ]
    },
    {
      "cell_type": "code",
      "metadata": {
        "colab": {
          "base_uri": "https://localhost:8080/"
        },
        "id": "xZwJKQCBMvaq",
        "outputId": "d8bda986-10f6-4b7a-c05b-08a40072c575"
      },
      "source": [
        "import math\n",
        "\n",
        "x = 0.5\n",
        "epsilon = 10**(-4)\n",
        "delta = 1\n",
        "f_x = 0\n",
        "i = 1\n",
        "while  (epsilon <= delta ):\n",
        "  delta = ((-1)**(i-1))*x**i/i\n",
        "  f_x += delta \n",
        "  if(delta<0):\n",
        "    delta=delta*-1 \n",
        "  i = i+1\n",
        "print(i-1) \n",
        "print('f_x = ',f_x)    \n",
        "print('ln(1+0.5) = ',math.log(1+0.5))"
      ],
      "execution_count": 29,
      "outputs": [
        {
          "output_type": "stream",
          "text": [
            "10\n",
            "f_x =  0.4054346478174603\n",
            "ln(1+0.5) =  0.4054651081081644\n"
          ],
          "name": "stdout"
        }
      ]
    },
    {
      "cell_type": "markdown",
      "metadata": {
        "id": "gj7gpQczOfD6"
      },
      "source": [
        "#Taylor Series For $$ ln(x) $$\n"
      ]
    },
    {
      "cell_type": "code",
      "metadata": {
        "colab": {
          "base_uri": "https://localhost:8080/"
        },
        "id": "tTHnmkg4OkSy",
        "outputId": "754a9ace-47c4-41c7-c7dd-b3b04f3c1ec4"
      },
      "source": [
        "x= 0.5\n",
        "ln_0_5= (x-1)-(x-1)**2/2+(x-1)**3/3-(x-1)**4/4 + (x-1)**5/5\n",
        "print(ln_0_5)"
      ],
      "execution_count": 30,
      "outputs": [
        {
          "output_type": "stream",
          "text": [
            "-0.6885416666666666\n"
          ],
          "name": "stdout"
        }
      ]
    },
    {
      "cell_type": "code",
      "metadata": {
        "colab": {
          "base_uri": "https://localhost:8080/"
        },
        "id": "7cTO1aSgOkXk",
        "outputId": "62c63983-7222-4e3f-9f4b-18c478275280"
      },
      "source": [
        "print(math.log(0.5))"
      ],
      "execution_count": 31,
      "outputs": [
        {
          "output_type": "stream",
          "text": [
            "-0.6931471805599453\n"
          ],
          "name": "stdout"
        }
      ]
    },
    {
      "cell_type": "markdown",
      "metadata": {
        "id": "E3iNJ18ilfIP"
      },
      "source": [
        "For the Taylor series for $f(x) =ln(x)$ about $c=0$ (Maclaurin) \n",
        "\n",
        "$$ E_n = \\frac{f^{(n+1)}(\\xi)}{(n+1)!}(x-c)^{(n+1)} = \\frac{ln(\\xi)}{(n+1)!}x^{(n+1)} \\le  \\frac{ln(x)}{(n+1)!}x^{(n+1)},\\text{ given that } $$\n",
        "\n",
        "\n",
        "If we want $E_n \\le \\epsilon$ then we need $n$ such that because $ln(x) \\ge \n",
        "ln(\\xi)$, for  $c=0 \\le \\xi \\le x$ \n",
        "\n",
        "\n",
        "$$ \\frac{ln(x)}{(n+1)!}x^{(n+1)} < \\epsilon$$ "
      ]
    },
    {
      "cell_type": "code",
      "metadata": {
        "colab": {
          "base_uri": "https://localhost:8080/"
        },
        "id": "JdnOUWFQldHr",
        "outputId": "f47620f5-9925-46c0-db78-8718e494a4be"
      },
      "source": [
        "import math\n",
        "\n",
        "x = 0.5\n",
        "epsilon = 10**(-4)\n",
        "\n",
        "for k in range(1000):\n",
        "  delta = (math.log(x) * x**(k+1)) / math.factorial(k+1)\n",
        "  if(delta<0):\n",
        "    delta = -delta\n",
        "  if (delta  < epsilon ):\n",
        "    break\n",
        "print(k)\n",
        "\n",
        "f_x = 0\n",
        "for i in range(k):\n",
        "    i+=1\n",
        "    print(i,' ',f_x, ' delta ',((-1)**(i-1))*((x-1)**i)/i)\n",
        "    f_x += ((-1)**(i-1))*(x-1)**i/i\n",
        "   \n",
        "    \n",
        "print('ln(0.5) = ',math.log(0.5))"
      ],
      "execution_count": 32,
      "outputs": [
        {
          "output_type": "stream",
          "text": [
            "5\n",
            "1   0  delta  -0.5\n",
            "2   -0.5  delta  -0.125\n",
            "3   -0.625  delta  -0.041666666666666664\n",
            "4   -0.6666666666666666  delta  -0.015625\n",
            "5   -0.6822916666666666  delta  -0.00625\n",
            "ln(0.5) =  -0.6931471805599453\n"
          ],
          "name": "stdout"
        }
      ]
    },
    {
      "cell_type": "markdown",
      "metadata": {
        "id": "E0eoHjhhzR3Z"
      },
      "source": [
        "$$ \\frac{ln(x)}{(n+1)!}x^{(n+1)} < \\frac{x}{(n+1)!}x^{(n+1)} < \\epsilon$$ "
      ]
    },
    {
      "cell_type": "code",
      "metadata": {
        "colab": {
          "base_uri": "https://localhost:8080/"
        },
        "id": "Nm85I4QmzMWW",
        "outputId": "3a4560c2-18ba-4eba-a89c-567032e7c84f"
      },
      "source": [
        "import math\n",
        "\n",
        "x = 0.5\n",
        "epsilon = 10**(-16)\n",
        "\n",
        "for k in range(1000):\n",
        " \n",
        "  if (((x * x**(k+1)) / math.factorial(k+1) ) < epsilon):\n",
        "    \n",
        "    break\n",
        "print(k)\n",
        "\n",
        "f_x = 0\n",
        "for i in range(k+1): \n",
        "    i+=1\n",
        "    delta=((-1)**(i-1))*((x-1)**i)/i\n",
        "    if(delta<0):\n",
        "     delta=delta*-1 \n",
        "    print(i-1,' ',f_x, ' delta ',delta)\n",
        "    f_x += ((-1)**(i-1))*(x-1)**i/i\n",
        "    \n",
        "    \n",
        "print('ln(0.5) = ',math.log(0.5))"
      ],
      "execution_count": 33,
      "outputs": [
        {
          "output_type": "stream",
          "text": [
            "14\n",
            "0   0  delta  0.5\n",
            "1   -0.5  delta  0.125\n",
            "2   -0.625  delta  0.041666666666666664\n",
            "3   -0.6666666666666666  delta  0.015625\n",
            "4   -0.6822916666666666  delta  0.00625\n",
            "5   -0.6885416666666666  delta  0.0026041666666666665\n",
            "6   -0.6911458333333332  delta  0.0011160714285714285\n",
            "7   -0.6922619047619046  delta  0.00048828125\n",
            "8   -0.6927501860119046  delta  0.00021701388888888888\n",
            "9   -0.6929671999007935  delta  9.765625e-05\n",
            "10   -0.6930648561507935  delta  4.438920454545455e-05\n",
            "11   -0.6931092453553389  delta  2.0345052083333332e-05\n",
            "12   -0.6931295904074223  delta  9.390024038461539e-06\n",
            "13   -0.6931389804314607  delta  4.359654017857143e-06\n",
            "14   -0.6931433400854786  delta  2.0345052083333333e-06\n",
            "ln(0.5) =  -0.6931471805599453\n"
          ],
          "name": "stdout"
        }
      ]
    },
    {
      "cell_type": "code",
      "metadata": {
        "colab": {
          "base_uri": "https://localhost:8080/"
        },
        "id": "g_0n3xq9-muH",
        "outputId": "26d957ec-8fda-4647-dd00-15ee941fc5d7"
      },
      "source": [
        "import math\n",
        "\n",
        "x = 0.5\n",
        "epsilon = 10**(-4)\n",
        "delta = 1\n",
        "f_x = 0\n",
        "i = 1\n",
        "while  (epsilon <= delta ):\n",
        "  delta = ((-1)**(i-1))*((x-1)**i)/i\n",
        "  f_x += delta \n",
        "  if(delta<0):\n",
        "    delta=delta*-1 \n",
        "  i = i+1\n",
        "print(i-1) \n",
        "print('f_x = ',f_x)    \n",
        "print('ln(0.5) = ',math.log(0.5))"
      ],
      "execution_count": 34,
      "outputs": [
        {
          "output_type": "stream",
          "text": [
            "10\n",
            "f_x =  -0.6930648561507935\n",
            "ln(0.5) =  -0.6931471805599453\n"
          ],
          "name": "stdout"
        }
      ]
    }
  ]
}